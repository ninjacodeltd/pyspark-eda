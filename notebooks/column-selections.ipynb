{
 "cells": [
  {
   "cell_type": "code",
   "execution_count": 4,
   "id": "initial_id",
   "metadata": {
    "collapsed": true,
    "ExecuteTime": {
     "end_time": "2024-03-09T18:36:51.416157Z",
     "start_time": "2024-03-09T18:36:50.510679Z"
    }
   },
   "outputs": [
    {
     "name": "stdout",
     "output_type": "stream",
     "text": [
      "+--------------------+--------------------+--------------------+---+--------------------+--------+------------------+--------------------+--------------------+----------+------+-------+-------------------+-------+--------------------+----------+--------------------+----------+------+\n",
      "|              _links|           externals|              genres| id|               image|language|              name|             network|        officialSite| premiered|rating|runtime|           schedule| status|             summary|   updated|                 url|webChannel|weight|\n",
      "+--------------------+--------------------+--------------------+---+--------------------+--------+------------------+--------------------+--------------------+----------+------+-------+-------------------+-------+--------------------+----------+--------------------+----------+------+\n",
      "|{NULL, {http://ap...|{tt2699110, 27043...|    [Drama, Romance]|127|{http://static.tv...| English|        The Affair|{{US, United Stat...|http://www.sho.co...|2014-10-12| {7.4}|     60|  {[Sunday], 21:00}|Running|<p>At once deeply...|1534872610|http://www.tvmaze...|      NULL|   100|\n",
      "|{NULL, {http://ap...|{tt3566726, 28162...|[Drama, Comedy, R...|128|{http://static.tv...| English|   Jane the Virgin|{{US, United Stat...|http://www.cwtv.c...|2014-10-13| {7.8}|     60|  {[Friday], 21:00}|Running|<p>When Jane Vill...|1536410972|http://www.tvmaze...|      NULL|    95|\n",
      "|{NULL, {http://ap...|{tt3460454, 28158...|            [Comedy]|129|{http://static.tv...| English|          Marry Me|{{US, United Stat...|                NULL|2014-10-14| {6.7}|     30| {[Tuesday], 21:00}|  Ended|<p>Six years ago,...|1504686293|http://www.tvmaze...|      NULL|    77|\n",
      "|{NULL, {http://ap...|{tt0369179, 72227...|            [Comedy]|130|{http://static.tv...| English|Two and a Half Men|{{US, United Stat...|http://www.cbs.co...|2003-09-22| {6.6}|     30|{[Thursday], 21:00}|  Ended|<p>Charlie is a w...|1534330472|http://www.tvmaze...|      NULL|    82|\n",
      "|{NULL, {http://ap...|{tt2666270, 26959...|[Drama, Comedy, R...|131|{http://static.tv...| English|       About a Boy|{{US, United Stat...|http://www.nbc.co...|2014-02-22| {7.1}|     30| {[Tuesday], 21:30}|  Ended|<p>Will Freeman l...|1486239563|http://www.tvmaze...|      NULL|    73|\n",
      "+--------------------+--------------------+--------------------+---+--------------------+--------+------------------+--------------------+--------------------+----------+------+-------+-------------------+-------+--------------------+----------+--------------------+----------+------+\n"
     ]
    }
   ],
   "source": [
    "from pyspark.sql import SparkSession\n",
    "import os\n",
    "spark = (\n",
    "    SparkSession\n",
    "    .builder\n",
    "    .master(\"local[*]\")\n",
    "    .getOrCreate()\n",
    ")\n",
    "df = spark.read.parquet(\n",
    "    os.path.join(\"/opt/workspace\", \"parquet\")\n",
    ")\n",
    "df.show(5)"
   ]
  },
  {
   "cell_type": "markdown",
   "source": [
    "# Selecting columns using string names"
   ],
   "metadata": {
    "collapsed": false
   },
   "id": "3fa5900433f9fa53"
  },
  {
   "cell_type": "code",
   "outputs": [
    {
     "name": "stdout",
     "output_type": "stream",
     "text": [
      "+---+------------------+-------+\n",
      "| id|              name|runtime|\n",
      "+---+------------------+-------+\n",
      "|127|        The Affair|     60|\n",
      "|128|   Jane the Virgin|     60|\n",
      "|129|          Marry Me|     30|\n",
      "|130|Two and a Half Men|     30|\n",
      "|131|       About a Boy|     30|\n",
      "+---+------------------+-------+\n"
     ]
    }
   ],
   "source": [
    "df.select(\n",
    "    \"id\",\n",
    "    \"name\",\n",
    "    \"runtime\",\n",
    ").show(5)"
   ],
   "metadata": {
    "collapsed": false,
    "ExecuteTime": {
     "end_time": "2024-03-09T19:36:29.108176Z",
     "start_time": "2024-03-09T19:36:28.354088Z"
    }
   },
   "id": "63cd6d2f54eff8b6",
   "execution_count": 20
  },
  {
   "cell_type": "markdown",
   "source": [
    "# Selecting columns using column objects"
   ],
   "metadata": {
    "collapsed": false
   },
   "id": "f3be3817d7991658"
  },
  {
   "cell_type": "code",
   "outputs": [
    {
     "name": "stdout",
     "output_type": "stream",
     "text": [
      "+---+------------------+-------+\n",
      "| id|              name|runtime|\n",
      "+---+------------------+-------+\n",
      "|127|        The Affair|     60|\n",
      "|128|   Jane the Virgin|     60|\n",
      "|129|          Marry Me|     30|\n",
      "|130|Two and a Half Men|     30|\n",
      "|131|       About a Boy|     30|\n",
      "+---+------------------+-------+\n"
     ]
    }
   ],
   "source": [
    "import pyspark.sql.functions as F\n",
    "df.select(\n",
    "    F.col(\"id\"),\n",
    "    F.col(\"name\"),\n",
    "    F.col(\"runtime\"),\n",
    ").show(5)"
   ],
   "metadata": {
    "collapsed": false,
    "ExecuteTime": {
     "end_time": "2024-03-09T19:36:30.361230Z",
     "start_time": "2024-03-09T19:36:30.096268Z"
    }
   },
   "id": "90e53ed85ba46ca2",
   "execution_count": 21
  },
  {
   "cell_type": "markdown",
   "source": [
    "# use alias to rename a column"
   ],
   "metadata": {
    "collapsed": false
   },
   "id": "21eeb8d781b32e43"
  },
  {
   "cell_type": "code",
   "outputs": [
    {
     "name": "stdout",
     "output_type": "stream",
     "text": [
      "+---+------------+-------+\n",
      "| id|name_of_show|runtime|\n",
      "+---+------------+-------+\n",
      "|127|  The Affair|     60|\n",
      "+---+------------+-------+\n"
     ]
    }
   ],
   "source": [
    "import pyspark.sql.functions as F\n",
    "df.select(\n",
    "    F.col(\"id\"),\n",
    "    F.col(\"name\").alias(\"name_of_show\"),\n",
    "    F.col(\"runtime\"),\n",
    ").show(1)"
   ],
   "metadata": {
    "collapsed": false,
    "ExecuteTime": {
     "end_time": "2024-03-09T19:36:31.882223Z",
     "start_time": "2024-03-09T19:36:31.556348Z"
    }
   },
   "id": "d01ea7eedc19fb99",
   "execution_count": 22
  },
  {
   "cell_type": "markdown",
   "source": [
    "# use withColumn to add a new column"
   ],
   "metadata": {
    "collapsed": false
   },
   "id": "7785ce96b7f19c19"
  },
  {
   "cell_type": "code",
   "outputs": [
    {
     "name": "stdout",
     "output_type": "stream",
     "text": [
      "+---+------------------+-------+-------------------+\n",
      "| id|              name|runtime|runtime_without_ads|\n",
      "+---+------------------+-------+-------------------+\n",
      "|127|        The Affair|     60|               48.0|\n",
      "|128|   Jane the Virgin|     60|               48.0|\n",
      "|129|          Marry Me|     30|               24.0|\n",
      "|130|Two and a Half Men|     30|               24.0|\n",
      "|131|       About a Boy|     30|               24.0|\n",
      "+---+------------------+-------+-------------------+\n"
     ]
    }
   ],
   "source": [
    "(\n",
    "    df.select(\n",
    "        F.col(\"id\"),\n",
    "        F.col(\"name\"),\n",
    "        F.col(\"runtime\"),\n",
    "    ).withColumn(\"runtime_without_ads\", F.col(\"runtime\") * 0.8)\n",
    ").show(5)"
   ],
   "metadata": {
    "collapsed": false,
    "ExecuteTime": {
     "end_time": "2024-03-09T19:36:33.478230Z",
     "start_time": "2024-03-09T19:36:33.305777Z"
    }
   },
   "id": "8201cc3eb33bd176",
   "execution_count": 23
  },
  {
   "cell_type": "markdown",
   "source": [
    "# use select and alias to add a new column"
   ],
   "metadata": {
    "collapsed": false
   },
   "id": "99506c1d3ed0f2ce"
  },
  {
   "cell_type": "code",
   "outputs": [
    {
     "name": "stdout",
     "output_type": "stream",
     "text": [
      "+---+------------------+-------+-------------------+\n",
      "| id|              name|runtime|runtime_without_ads|\n",
      "+---+------------------+-------+-------------------+\n",
      "|127|        The Affair|     60|               48.0|\n",
      "|128|   Jane the Virgin|     60|               48.0|\n",
      "|129|          Marry Me|     30|               24.0|\n",
      "|130|Two and a Half Men|     30|               24.0|\n",
      "|131|       About a Boy|     30|               24.0|\n",
      "+---+------------------+-------+-------------------+\n"
     ]
    }
   ],
   "source": [
    "(\n",
    "    df.select(\n",
    "        F.col(\"id\"),\n",
    "        F.col(\"name\"),\n",
    "        F.col(\"runtime\"),\n",
    "        (F.col(\"runtime\") * 0.8).alias(\"runtime_without_ads\"),\n",
    "    )\n",
    ").show(5)"
   ],
   "metadata": {
    "collapsed": false,
    "ExecuteTime": {
     "end_time": "2024-03-09T19:36:34.790182Z",
     "start_time": "2024-03-09T19:36:34.646819Z"
    }
   },
   "id": "5077a017659fa3ac",
   "execution_count": 24
  }
 ],
 "metadata": {
  "kernelspec": {
   "display_name": "Python 3",
   "language": "python",
   "name": "python3"
  },
  "language_info": {
   "codemirror_mode": {
    "name": "ipython",
    "version": 2
   },
   "file_extension": ".py",
   "mimetype": "text/x-python",
   "name": "python",
   "nbconvert_exporter": "python",
   "pygments_lexer": "ipython2",
   "version": "2.7.6"
  }
 },
 "nbformat": 4,
 "nbformat_minor": 5
}
