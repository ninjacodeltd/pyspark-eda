{
 "cells": [
  {
   "cell_type": "code",
   "execution_count": 101,
   "id": "initial_id",
   "metadata": {
    "collapsed": true,
    "ExecuteTime": {
     "end_time": "2024-03-09T23:14:36.320240Z",
     "start_time": "2024-03-09T23:14:35.927339Z"
    }
   },
   "outputs": [
    {
     "name": "stdout",
     "output_type": "stream",
     "text": [
      "+---+------------------+--------------------+-------+-------+--------------------+\n",
      "| id|              name|              genres|runtime| status|        officialSite|\n",
      "+---+------------------+--------------------+-------+-------+--------------------+\n",
      "|127|        The Affair|    [Drama, Romance]|     60|Running|http://www.sho.co...|\n",
      "|128|   Jane the Virgin|[Drama, Comedy, R...|     60|Running|http://www.cwtv.c...|\n",
      "|129|          Marry Me|            [Comedy]|     30|  Ended|                NULL|\n",
      "|130|Two and a Half Men|            [Comedy]|     30|  Ended|http://www.cbs.co...|\n",
      "|131|       About a Boy|[Drama, Comedy, R...|     30|  Ended|http://www.nbc.co...|\n",
      "+---+------------------+--------------------+-------+-------+--------------------+\n"
     ]
    }
   ],
   "source": [
    "from pyspark.sql import SparkSession\n",
    "import os\n",
    "import pyspark.sql.functions as F\n",
    "spark = (\n",
    "    SparkSession\n",
    "    .builder\n",
    "    .master(\"local[*]\")\n",
    "    .getOrCreate()\n",
    ")\n",
    "df = spark.read.parquet(\n",
    "    os.path.join(\"/opt/workspace\", \"parquet\")\n",
    ").select(\n",
    "    F.col(\"id\"),\n",
    "    F.col(\"name\"),\n",
    "    F.col(\"genres\"),\n",
    "    F.col(\"runtime\"),\n",
    "    F.col(\"status\"),\n",
    "    F.col(\"officialSite\"),\n",
    ")\n",
    "df.show(5)"
   ]
  },
  {
   "cell_type": "markdown",
   "source": [
    "filter column by a single value"
   ],
   "metadata": {
    "collapsed": false
   },
   "id": "af5be9296b928a79"
  },
  {
   "cell_type": "code",
   "outputs": [
    {
     "name": "stdout",
     "output_type": "stream",
     "text": [
      "+---+---------------+---------------+-------+-------+--------------------+\n",
      "| id|           name|         genres|runtime| status|        officialSite|\n",
      "+---+---------------+---------------+-------+-------+--------------------+\n",
      "|184|BoJack Horseman|[Drama, Comedy]|     25|Running|http://www.netfli...|\n",
      "+---+---------------+---------------+-------+-------+--------------------+\n"
     ]
    }
   ],
   "source": [
    "df.filter(F.col(\"name\") == \"BoJack Horseman\").show(5)"
   ],
   "metadata": {
    "collapsed": false,
    "ExecuteTime": {
     "end_time": "2024-03-09T23:14:36.507016Z",
     "start_time": "2024-03-09T23:14:36.322280Z"
    }
   },
   "id": "23f141e487b51722",
   "execution_count": 102
  },
  {
   "cell_type": "markdown",
   "source": [
    "filter by multiple columns"
   ],
   "metadata": {
    "collapsed": false
   },
   "id": "13c44c9f030dc5a7"
  },
  {
   "cell_type": "code",
   "outputs": [
    {
     "name": "stdout",
     "output_type": "stream",
     "text": [
      "+---+------------------+--------------------+-------+-------+--------------------+\n",
      "| id|              name|              genres|runtime| status|        officialSite|\n",
      "+---+------------------+--------------------+-------+-------+--------------------+\n",
      "|142|              Veep|            [Comedy]|     30|Running|http://www.hbo.co...|\n",
      "|143|    Silicon Valley|            [Comedy]|     30|Running|http://www.hbo.co...|\n",
      "| 41| Last Man Standing|    [Comedy, Family]|     30|Running|https://www.fox.c...|\n",
      "| 49|Brooklyn Nine-Nine|[Comedy, Action, ...|     30|Running|https://www.nbc.c...|\n",
      "| 57|         black-ish|    [Comedy, Family]|     30|Running|http://abc.go.com...|\n",
      "+---+------------------+--------------------+-------+-------+--------------------+\n"
     ]
    }
   ],
   "source": [
    "df.filter(\n",
    "    (F.col(\"status\") == \"Running\") & (F.col(\"runtime\") < 45)\n",
    ").show(5)"
   ],
   "metadata": {
    "collapsed": false,
    "ExecuteTime": {
     "end_time": "2024-03-09T23:14:36.590199Z",
     "start_time": "2024-03-09T23:14:36.508418Z"
    }
   },
   "id": "735824306c8d6ca2",
   "execution_count": 103
  },
  {
   "cell_type": "markdown",
   "source": [
    "filter single column by multiple values"
   ],
   "metadata": {
    "collapsed": false
   },
   "id": "8786e3994a33ec56"
  },
  {
   "cell_type": "code",
   "outputs": [
    {
     "name": "stdout",
     "output_type": "stream",
     "text": [
      "+---+--------------------+--------------------+-------+-------+--------------------+\n",
      "| id|                name|              genres|runtime| status|        officialSite|\n",
      "+---+--------------------+--------------------+-------+-------+--------------------+\n",
      "|169|        Breaking Bad|[Drama, Crime, Th...|     60|  Ended|http://www.amc.co...|\n",
      "|170|Orange Is the New...|[Drama, Comedy, C...|     60|Running|https://www.netfl...|\n",
      "| 58|            New Girl|   [Comedy, Romance]|     30|  Ended|http://www.fox.co...|\n",
      "+---+--------------------+--------------------+-------+-------+--------------------+\n"
     ]
    }
   ],
   "source": [
    "df.filter(\n",
    "    F.col(\"id\").isin(58, 169, 170)\n",
    ").show(5)"
   ],
   "metadata": {
    "collapsed": false,
    "ExecuteTime": {
     "end_time": "2024-03-09T23:14:36.713027Z",
     "start_time": "2024-03-09T23:14:36.591807Z"
    }
   },
   "id": "df8ca1d68cadb119",
   "execution_count": 104
  },
  {
   "cell_type": "markdown",
   "source": [
    "filter by string pattern"
   ],
   "metadata": {
    "collapsed": false
   },
   "id": "8abf90b57ddcaa56"
  },
  {
   "cell_type": "code",
   "outputs": [
    {
     "name": "stdout",
     "output_type": "stream",
     "text": [
      "+---+---------------+---------------+-------+-------+--------------------+\n",
      "| id|           name|         genres|runtime| status|        officialSite|\n",
      "+---+---------------+---------------+-------+-------+--------------------+\n",
      "|184|BoJack Horseman|[Drama, Comedy]|     25|Running|http://www.netfli...|\n",
      "+---+---------------+---------------+-------+-------+--------------------+\n"
     ]
    }
   ],
   "source": [
    "df.filter(\n",
    "    F.col(\"name\").like(\"%BoJack%\")\n",
    ").show(5)"
   ],
   "metadata": {
    "collapsed": false,
    "ExecuteTime": {
     "end_time": "2024-03-09T23:14:37.528224Z",
     "start_time": "2024-03-09T23:14:36.717270Z"
    }
   },
   "id": "6beace6d6528453f",
   "execution_count": 105
  },
  {
   "cell_type": "code",
   "outputs": [
    {
     "name": "stdout",
     "output_type": "stream",
     "text": [
      "+---+---------------+--------------------+-------+-------+--------------------+\n",
      "| id|           name|              genres|runtime| status|        officialSite|\n",
      "+---+---------------+--------------------+-------+-------+--------------------+\n",
      "|184|BoJack Horseman|     [Drama, Comedy]|     25|Running|http://www.netfli...|\n",
      "|216| Rick and Morty|[Comedy, Adventur...|     30|Running|http://www.adults...|\n",
      "+---+---------------+--------------------+-------+-------+--------------------+\n"
     ]
    }
   ],
   "source": [
    "df.filter(\n",
    "    F.col(\"name\").rlike(\"BoJack|Rick\")\n",
    ").show(5)"
   ],
   "metadata": {
    "collapsed": false,
    "ExecuteTime": {
     "end_time": "2024-03-09T23:14:37.808347Z",
     "start_time": "2024-03-09T23:14:37.529425Z"
    }
   },
   "id": "dc1917e9ab75793d",
   "execution_count": 106
  },
  {
   "cell_type": "markdown",
   "source": [
    "filter array column by single value"
   ],
   "metadata": {
    "collapsed": false
   },
   "id": "5ee7998338191b44"
  },
  {
   "cell_type": "code",
   "outputs": [
    {
     "name": "stdout",
     "output_type": "stream",
     "text": [
      "+---+------------------+--------------------+-------+-------+--------------------+\n",
      "| id|              name|              genres|runtime| status|        officialSite|\n",
      "+---+------------------+--------------------+-------+-------+--------------------+\n",
      "|128|   Jane the Virgin|[Drama, Comedy, R...|     60|Running|http://www.cwtv.c...|\n",
      "|129|          Marry Me|            [Comedy]|     30|  Ended|                NULL|\n",
      "|130|Two and a Half Men|            [Comedy]|     30|  Ended|http://www.cbs.co...|\n",
      "|131|       About a Boy|[Drama, Comedy, R...|     30|  Ended|http://www.nbc.co...|\n",
      "|132|       The Millers|            [Comedy]|     30|  Ended|http://www.cbs.co...|\n",
      "+---+------------------+--------------------+-------+-------+--------------------+\n"
     ]
    }
   ],
   "source": [
    "df.filter(\n",
    "    F.array_contains(F.col(\"genres\"), \"Comedy\")\n",
    ").show(5)"
   ],
   "metadata": {
    "collapsed": false,
    "ExecuteTime": {
     "end_time": "2024-03-09T23:14:37.868023Z",
     "start_time": "2024-03-09T23:14:37.809543Z"
    }
   },
   "id": "8669cb1a970d671e",
   "execution_count": 107
  },
  {
   "cell_type": "markdown",
   "source": [
    "filter array column by multiple values"
   ],
   "metadata": {
    "collapsed": false
   },
   "id": "ceb316401904ab1a"
  },
  {
   "cell_type": "code",
   "outputs": [
    {
     "name": "stdout",
     "output_type": "stream",
     "text": [
      "+---+-----------------------+-----------------------+-------+-------+-----------------------------------------+\n",
      "|id |name                   |genres                 |runtime|status |officialSite                             |\n",
      "+---+-----------------------+-----------------------+-------+-------+-----------------------------------------+\n",
      "|160|Weeds                  |[Drama, Comedy, Crime] |30     |Ended  |http://www.sho.com/sho/weeds/home        |\n",
      "|170|Orange Is the New Black|[Drama, Comedy, Crime] |60     |Running|https://www.netflix.com/title/70242311   |\n",
      "|49 |Brooklyn Nine-Nine     |[Comedy, Action, Crime]|30     |Running|https://www.nbc.com/brooklyn-nine-nine   |\n",
      "|78 |The Mysteries of Laura |[Comedy, Crime]        |60     |Ended  |http://www.nbc.com/the-mysteries-of-laura|\n",
      "+---+-----------------------+-----------------------+-------+-------+-----------------------------------------+\n"
     ]
    }
   ],
   "source": [
    "from functools import reduce\n",
    "reduce(\n",
    "    lambda a, b: a.filter(F.array_contains(F.col(\"genres\"), b)),\n",
    "    [\"Comedy\", \"Crime\"],\n",
    "    df\n",
    ").show(5, truncate=False)\n"
   ],
   "metadata": {
    "collapsed": false,
    "ExecuteTime": {
     "end_time": "2024-03-09T23:14:38.011020Z",
     "start_time": "2024-03-09T23:14:37.869337Z"
    }
   },
   "id": "4f34e72a1877186b",
   "execution_count": 108
  },
  {
   "cell_type": "markdown",
   "source": [
    "filter where column is null"
   ],
   "metadata": {
    "collapsed": false
   },
   "id": "a29eb5cb5975c5e3"
  },
  {
   "cell_type": "code",
   "outputs": [
    {
     "name": "stdout",
     "output_type": "stream",
     "text": [
      "+---+-------------+--------------------+-------+------+------------+\n",
      "| id|         name|              genres|runtime|status|officialSite|\n",
      "+---+-------------+--------------------+-------+------+------------+\n",
      "|129|     Marry Me|            [Comedy]|     30| Ended|        NULL|\n",
      "|134|       Heroes|[Action, Science-...|     60| Ended|        NULL|\n",
      "|136|The McCarthys|    [Comedy, Family]|     30| Ended|        NULL|\n",
      "|137|     Cristela|     [Comedy, Legal]|     30| Ended|        NULL|\n",
      "|147| Nurse Jackie|[Drama, Comedy, T...|     30| Ended|        NULL|\n",
      "+---+-------------+--------------------+-------+------+------------+\n"
     ]
    }
   ],
   "source": [
    "df.filter(\n",
    "    F.col(\"officialSite\").isNull()\n",
    ").show(5)"
   ],
   "metadata": {
    "collapsed": false,
    "ExecuteTime": {
     "end_time": "2024-03-09T23:14:38.069224Z",
     "start_time": "2024-03-09T23:14:38.012315Z"
    }
   },
   "id": "f154239cf53e02a5",
   "execution_count": 109
  },
  {
   "cell_type": "markdown",
   "source": [
    "filter where column is not null"
   ],
   "metadata": {
    "collapsed": false
   },
   "id": "333d0104b157baf2"
  },
  {
   "cell_type": "code",
   "outputs": [
    {
     "name": "stdout",
     "output_type": "stream",
     "text": [
      "+---+------------------+--------------------+-------+-------+--------------------+\n",
      "| id|              name|              genres|runtime| status|        officialSite|\n",
      "+---+------------------+--------------------+-------+-------+--------------------+\n",
      "|127|        The Affair|    [Drama, Romance]|     60|Running|http://www.sho.co...|\n",
      "|128|   Jane the Virgin|[Drama, Comedy, R...|     60|Running|http://www.cwtv.c...|\n",
      "|130|Two and a Half Men|            [Comedy]|     30|  Ended|http://www.cbs.co...|\n",
      "|131|       About a Boy|[Drama, Comedy, R...|     30|  Ended|http://www.nbc.co...|\n",
      "|132|       The Millers|            [Comedy]|     30|  Ended|http://www.cbs.co...|\n",
      "+---+------------------+--------------------+-------+-------+--------------------+\n"
     ]
    }
   ],
   "source": [
    "df.filter(\n",
    "    F.col(\"officialSite\").isNotNull()\n",
    ").show(5)"
   ],
   "metadata": {
    "collapsed": false,
    "ExecuteTime": {
     "end_time": "2024-03-09T23:14:38.120205Z",
     "start_time": "2024-03-09T23:14:38.070383Z"
    }
   },
   "id": "d2cf2e2d75692182",
   "execution_count": 110
  }
 ],
 "metadata": {
  "kernelspec": {
   "display_name": "Python 3",
   "language": "python",
   "name": "python3"
  },
  "language_info": {
   "codemirror_mode": {
    "name": "ipython",
    "version": 2
   },
   "file_extension": ".py",
   "mimetype": "text/x-python",
   "name": "python",
   "nbconvert_exporter": "python",
   "pygments_lexer": "ipython2",
   "version": "2.7.6"
  }
 },
 "nbformat": 4,
 "nbformat_minor": 5
}
