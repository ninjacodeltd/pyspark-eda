{
 "cells": [
  {
   "cell_type": "code",
   "execution_count": 1,
   "id": "initial_id",
   "metadata": {
    "collapsed": true,
    "ExecuteTime": {
     "end_time": "2024-02-25T19:41:49.552848Z",
     "start_time": "2024-02-25T19:41:44.349934Z"
    }
   },
   "outputs": [],
   "source": [
    "from pyspark.sql import SparkSession\n",
    "spark = (\n",
    "    SparkSession\n",
    "    .builder\n",
    "    .master(\"local[*]\")\n",
    "    .getOrCreate()\n",
    ")"
   ]
  },
  {
   "cell_type": "markdown",
   "source": [
    "load a json file containing a single array of json objects"
   ],
   "metadata": {
    "collapsed": false
   },
   "id": "c3429928b754a012"
  },
  {
   "cell_type": "code",
   "outputs": [
    {
     "name": "stdout",
     "output_type": "stream",
     "text": [
      "+--------------------+--------------------+--------------------+---+--------------------+--------+------------------+--------------------+--------------------+----------+------+-------+-------------------+-------+--------------------+--------+----------+--------------------+----------+------+\n",
      "|              _links|           externals|              genres| id|               image|language|              name|             network|        officialSite| premiered|rating|runtime|           schedule| status|             summary|    type|   updated|                 url|webChannel|weight|\n",
      "+--------------------+--------------------+--------------------+---+--------------------+--------+------------------+--------------------+--------------------+----------+------+-------+-------------------+-------+--------------------+--------+----------+--------------------+----------+------+\n",
      "|{NULL, {http://ap...|{tt1553656, 26449...|[Drama, Science-F...|  1|{http://static.tv...| English|    Under the Dome|{{US, United Stat...|http://www.cbs.co...|2013-06-24| {6.5}|     60|{[Thursday], 22:00}|  Ended|<p><b>Under the D...|Scripted|1529612668|http://www.tvmaze...|      NULL|    91|\n",
      "|{NULL, {http://ap...|{tt1839578, 24874...|[Drama, Action, C...|  2|{http://static.tv...| English|Person of Interest|{{US, United Stat...|http://www.cbs.co...|2011-09-22| {9.0}|     60| {[Tuesday], 22:00}|  Ended|<p>You are being ...|Scripted|1535507028|http://www.tvmaze...|      NULL|    96|\n",
      "|{NULL, {http://ap...|{tt2365946, 26955...|[Drama, Horror, R...|  3|{http://static.tv...| English|            Bitten|{{CA, Canada, Ame...|http://bitten.spa...|2014-01-11| {7.6}|     60|  {[Friday], 22:00}|  Ended|<p>Based on the c...|Scripted|1534079818|http://www.tvmaze...|      NULL|    75|\n",
      "|{{http://api.tvma...|{tt2193021, 25765...|[Drama, Action, S...|  4|{http://static.tv...| English|             Arrow|{{US, United Stat...|http://www.cwtv.c...|2012-10-10| {7.6}|     60|  {[Monday], 20:00}|Running|<p>After a violen...|Scripted|1536062117|http://www.tvmaze...|      NULL|    99|\n",
      "|{{http://api.tvma...|{tt2356777, 27063...|[Drama, Crime, Th...|  5|{http://static.tv...| English|    True Detective|{{US, United Stat...|http://www.hbo.co...|2014-01-12| {8.3}|     60|  {[Sunday], 21:00}|Running|<p>Touch darkness...|Scripted|1536053668|http://www.tvmaze...|      NULL|    99|\n",
      "+--------------------+--------------------+--------------------+---+--------------------+--------+------------------+--------------------+--------------------+----------+------+-------+-------------------+-------+--------------------+--------+----------+--------------------+----------+------+\n"
     ]
    }
   ],
   "source": [
    "import os\n",
    "json = spark.read.json(\n",
    "    path=os.path.join(\"/opt/workspace\", \"json/tv-shows.json\"),\n",
    ")\n",
    "json.show(5)"
   ],
   "metadata": {
    "collapsed": false,
    "ExecuteTime": {
     "end_time": "2024-02-25T19:41:56.429676Z",
     "start_time": "2024-02-25T19:41:49.555784Z"
    }
   },
   "id": "f35528217c5bc420",
   "execution_count": 2
  },
  {
   "cell_type": "code",
   "outputs": [
    {
     "name": "stdout",
     "output_type": "stream",
     "text": [
      "root\n",
      " |-- _links: struct (nullable = true)\n",
      " |    |-- nextepisode: struct (nullable = true)\n",
      " |    |    |-- href: string (nullable = true)\n",
      " |    |-- previousepisode: struct (nullable = true)\n",
      " |    |    |-- href: string (nullable = true)\n",
      " |    |-- self: struct (nullable = true)\n",
      " |    |    |-- href: string (nullable = true)\n",
      " |-- externals: struct (nullable = true)\n",
      " |    |-- imdb: string (nullable = true)\n",
      " |    |-- thetvdb: long (nullable = true)\n",
      " |    |-- tvrage: long (nullable = true)\n",
      " |-- genres: array (nullable = true)\n",
      " |    |-- element: string (containsNull = true)\n",
      " |-- id: long (nullable = true)\n",
      " |-- image: struct (nullable = true)\n",
      " |    |-- medium: string (nullable = true)\n",
      " |    |-- original: string (nullable = true)\n",
      " |-- language: string (nullable = true)\n",
      " |-- name: string (nullable = true)\n",
      " |-- network: struct (nullable = true)\n",
      " |    |-- country: struct (nullable = true)\n",
      " |    |    |-- code: string (nullable = true)\n",
      " |    |    |-- name: string (nullable = true)\n",
      " |    |    |-- timezone: string (nullable = true)\n",
      " |    |-- id: long (nullable = true)\n",
      " |    |-- name: string (nullable = true)\n",
      " |-- officialSite: string (nullable = true)\n",
      " |-- premiered: string (nullable = true)\n",
      " |-- rating: struct (nullable = true)\n",
      " |    |-- average: double (nullable = true)\n",
      " |-- runtime: long (nullable = true)\n",
      " |-- schedule: struct (nullable = true)\n",
      " |    |-- days: array (nullable = true)\n",
      " |    |    |-- element: string (containsNull = true)\n",
      " |    |-- time: string (nullable = true)\n",
      " |-- status: string (nullable = true)\n",
      " |-- summary: string (nullable = true)\n",
      " |-- type: string (nullable = true)\n",
      " |-- updated: long (nullable = true)\n",
      " |-- url: string (nullable = true)\n",
      " |-- webChannel: struct (nullable = true)\n",
      " |    |-- country: struct (nullable = true)\n",
      " |    |    |-- code: string (nullable = true)\n",
      " |    |    |-- name: string (nullable = true)\n",
      " |    |    |-- timezone: string (nullable = true)\n",
      " |    |-- id: long (nullable = true)\n",
      " |    |-- name: string (nullable = true)\n",
      " |-- weight: long (nullable = true)\n"
     ]
    }
   ],
   "source": [
    "json.printSchema()"
   ],
   "metadata": {
    "collapsed": false,
    "ExecuteTime": {
     "end_time": "2024-02-25T19:41:56.444824Z",
     "start_time": "2024-02-25T19:41:56.432577Z"
    }
   },
   "id": "2a4c2061b1559a93",
   "execution_count": 3
  },
  {
   "cell_type": "markdown",
   "source": [
    "load a jsonl file containing a single json object per line"
   ],
   "metadata": {
    "collapsed": false
   },
   "id": "444fefd082b24825"
  },
  {
   "cell_type": "code",
   "outputs": [
    {
     "name": "stdout",
     "output_type": "stream",
     "text": [
      "+--------------------+--------------------+--------------------+---+--------------------+--------+------------------+--------------------+--------------------+----------+------+-------+-------------------+-------+--------------------+--------+----------+--------------------+----------+------+\n",
      "|              _links|           externals|              genres| id|               image|language|              name|             network|        officialSite| premiered|rating|runtime|           schedule| status|             summary|    type|   updated|                 url|webChannel|weight|\n",
      "+--------------------+--------------------+--------------------+---+--------------------+--------+------------------+--------------------+--------------------+----------+------+-------+-------------------+-------+--------------------+--------+----------+--------------------+----------+------+\n",
      "|{NULL, {http://ap...|{tt1553656, 26449...|[Drama, Science-F...|  1|{http://static.tv...| English|    Under the Dome|{{US, United Stat...|http://www.cbs.co...|2013-06-24| {6.5}|     60|{[Thursday], 22:00}|  Ended|<p><b>Under the D...|Scripted|1529612668|http://www.tvmaze...|      NULL|    91|\n",
      "|{NULL, {http://ap...|{tt1839578, 24874...|[Drama, Action, C...|  2|{http://static.tv...| English|Person of Interest|{{US, United Stat...|http://www.cbs.co...|2011-09-22| {9.0}|     60| {[Tuesday], 22:00}|  Ended|<p>You are being ...|Scripted|1535507028|http://www.tvmaze...|      NULL|    96|\n",
      "|{NULL, {http://ap...|{tt2365946, 26955...|[Drama, Horror, R...|  3|{http://static.tv...| English|            Bitten|{{CA, Canada, Ame...|http://bitten.spa...|2014-01-11| {7.6}|     60|  {[Friday], 22:00}|  Ended|<p>Based on the c...|Scripted|1534079818|http://www.tvmaze...|      NULL|    75|\n",
      "|{{http://api.tvma...|{tt2193021, 25765...|[Drama, Action, S...|  4|{http://static.tv...| English|             Arrow|{{US, United Stat...|http://www.cwtv.c...|2012-10-10| {7.6}|     60|  {[Monday], 20:00}|Running|<p>After a violen...|Scripted|1536062117|http://www.tvmaze...|      NULL|    99|\n",
      "|{{http://api.tvma...|{tt2356777, 27063...|[Drama, Crime, Th...|  5|{http://static.tv...| English|    True Detective|{{US, United Stat...|http://www.hbo.co...|2014-01-12| {8.3}|     60|  {[Sunday], 21:00}|Running|<p>Touch darkness...|Scripted|1536053668|http://www.tvmaze...|      NULL|    99|\n",
      "+--------------------+--------------------+--------------------+---+--------------------+--------+------------------+--------------------+--------------------+----------+------+-------+-------------------+-------+--------------------+--------+----------+--------------------+----------+------+\n"
     ]
    }
   ],
   "source": [
    "import os\n",
    "json = spark.read.json(\n",
    "    path=os.path.join(\"/opt/workspace\", \"json/tv-shows-1.jsonl\"),\n",
    ")\n",
    "json.show(5)"
   ],
   "metadata": {
    "collapsed": false,
    "ExecuteTime": {
     "end_time": "2024-02-25T19:41:58.392672Z",
     "start_time": "2024-02-25T19:41:56.446485Z"
    }
   },
   "id": "8a1885f0b9407c7c",
   "execution_count": 4
  },
  {
   "cell_type": "markdown",
   "source": [
    "load multiple jsonl files"
   ],
   "metadata": {
    "collapsed": false
   },
   "id": "687bc872e2fa0902"
  },
  {
   "cell_type": "code",
   "outputs": [
    {
     "name": "stdout",
     "output_type": "stream",
     "text": [
      "+--------------------+--------------------+--------------------+---+--------------------+--------+------------------+--------------------+--------------------+----------+------+-------+-------------------+-------+--------------------+--------+----------+--------------------+----------+------+\n",
      "|              _links|           externals|              genres| id|               image|language|              name|             network|        officialSite| premiered|rating|runtime|           schedule| status|             summary|    type|   updated|                 url|webChannel|weight|\n",
      "+--------------------+--------------------+--------------------+---+--------------------+--------+------------------+--------------------+--------------------+----------+------+-------+-------------------+-------+--------------------+--------+----------+--------------------+----------+------+\n",
      "|{NULL, {http://ap...|{tt2699110, 27043...|    [Drama, Romance]|127|{http://static.tv...| English|        The Affair|{{US, United Stat...|http://www.sho.co...|2014-10-12| {7.4}|     60|  {[Sunday], 21:00}|Running|<p>At once deeply...|Scripted|1534872610|http://www.tvmaze...|      NULL|   100|\n",
      "|{NULL, {http://ap...|{tt3566726, 28162...|[Drama, Comedy, R...|128|{http://static.tv...| English|   Jane the Virgin|{{US, United Stat...|http://www.cwtv.c...|2014-10-13| {7.8}|     60|  {[Friday], 21:00}|Running|<p>When Jane Vill...|Scripted|1536410972|http://www.tvmaze...|      NULL|    95|\n",
      "|{NULL, {http://ap...|{tt3460454, 28158...|            [Comedy]|129|{http://static.tv...| English|          Marry Me|{{US, United Stat...|                NULL|2014-10-14| {6.7}|     30| {[Tuesday], 21:00}|  Ended|<p>Six years ago,...|Scripted|1504686293|http://www.tvmaze...|      NULL|    77|\n",
      "|{NULL, {http://ap...|{tt0369179, 72227...|            [Comedy]|130|{http://static.tv...| English|Two and a Half Men|{{US, United Stat...|http://www.cbs.co...|2003-09-22| {6.6}|     30|{[Thursday], 21:00}|  Ended|<p>Charlie is a w...|Scripted|1534330472|http://www.tvmaze...|      NULL|    82|\n",
      "|{NULL, {http://ap...|{tt2666270, 26959...|[Drama, Comedy, R...|131|{http://static.tv...| English|       About a Boy|{{US, United Stat...|http://www.nbc.co...|2014-02-22| {7.1}|     30| {[Tuesday], 21:30}|  Ended|<p>Will Freeman l...|Scripted|1486239563|http://www.tvmaze...|      NULL|    73|\n",
      "+--------------------+--------------------+--------------------+---+--------------------+--------+------------------+--------------------+--------------------+----------+------+-------+-------------------+-------+--------------------+--------+----------+--------------------+----------+------+\n"
     ]
    }
   ],
   "source": [
    "import os\n",
    "json = spark.read.json(\n",
    "    path=[os.path.join(\"/opt/workspace\", \"json/tv-shows-1.jsonl\"), os.path.join(\"/opt/workspace\", \"json/tv-shows-2.jsonl\")],\n",
    ")\n",
    "json.show(5)"
   ],
   "metadata": {
    "collapsed": false,
    "ExecuteTime": {
     "end_time": "2024-02-25T19:41:59.520731Z",
     "start_time": "2024-02-25T19:41:58.396248Z"
    }
   },
   "id": "e8cc13b090241041",
   "execution_count": 5
  },
  {
   "cell_type": "markdown",
   "source": [
    "load jsonl files using a glob pattern"
   ],
   "metadata": {
    "collapsed": false
   },
   "id": "27e0dccefe828633"
  },
  {
   "cell_type": "code",
   "outputs": [
    {
     "name": "stdout",
     "output_type": "stream",
     "text": [
      "+--------------------+--------------------+--------------------+---+--------------------+--------+------------------+--------------------+--------------------+----------+------+-------+-------------------+-------+--------------------+--------+----------+--------------------+----------+------+\n",
      "|              _links|           externals|              genres| id|               image|language|              name|             network|        officialSite| premiered|rating|runtime|           schedule| status|             summary|    type|   updated|                 url|webChannel|weight|\n",
      "+--------------------+--------------------+--------------------+---+--------------------+--------+------------------+--------------------+--------------------+----------+------+-------+-------------------+-------+--------------------+--------+----------+--------------------+----------+------+\n",
      "|{NULL, {http://ap...|{tt2699110, 27043...|    [Drama, Romance]|127|{http://static.tv...| English|        The Affair|{{US, United Stat...|http://www.sho.co...|2014-10-12| {7.4}|     60|  {[Sunday], 21:00}|Running|<p>At once deeply...|Scripted|1534872610|http://www.tvmaze...|      NULL|   100|\n",
      "|{NULL, {http://ap...|{tt3566726, 28162...|[Drama, Comedy, R...|128|{http://static.tv...| English|   Jane the Virgin|{{US, United Stat...|http://www.cwtv.c...|2014-10-13| {7.8}|     60|  {[Friday], 21:00}|Running|<p>When Jane Vill...|Scripted|1536410972|http://www.tvmaze...|      NULL|    95|\n",
      "|{NULL, {http://ap...|{tt3460454, 28158...|            [Comedy]|129|{http://static.tv...| English|          Marry Me|{{US, United Stat...|                NULL|2014-10-14| {6.7}|     30| {[Tuesday], 21:00}|  Ended|<p>Six years ago,...|Scripted|1504686293|http://www.tvmaze...|      NULL|    77|\n",
      "|{NULL, {http://ap...|{tt0369179, 72227...|            [Comedy]|130|{http://static.tv...| English|Two and a Half Men|{{US, United Stat...|http://www.cbs.co...|2003-09-22| {6.6}|     30|{[Thursday], 21:00}|  Ended|<p>Charlie is a w...|Scripted|1534330472|http://www.tvmaze...|      NULL|    82|\n",
      "|{NULL, {http://ap...|{tt2666270, 26959...|[Drama, Comedy, R...|131|{http://static.tv...| English|       About a Boy|{{US, United Stat...|http://www.nbc.co...|2014-02-22| {7.1}|     30| {[Tuesday], 21:30}|  Ended|<p>Will Freeman l...|Scripted|1486239563|http://www.tvmaze...|      NULL|    73|\n",
      "+--------------------+--------------------+--------------------+---+--------------------+--------+------------------+--------------------+--------------------+----------+------+-------+-------------------+-------+--------------------+--------+----------+--------------------+----------+------+\n"
     ]
    }
   ],
   "source": [
    "import os\n",
    "json = spark.read.json(\n",
    "    path=os.path.join(\"/opt/workspace\", \"json/*.jsonl\"),\n",
    ")\n",
    "json.show(5)"
   ],
   "metadata": {
    "collapsed": false,
    "ExecuteTime": {
     "end_time": "2024-02-25T19:42:00.581047Z",
     "start_time": "2024-02-25T19:41:59.522215Z"
    }
   },
   "id": "83ffd97caf610380",
   "execution_count": 6
  }
 ],
 "metadata": {
  "kernelspec": {
   "display_name": "Python 3",
   "language": "python",
   "name": "python3"
  },
  "language_info": {
   "codemirror_mode": {
    "name": "ipython",
    "version": 2
   },
   "file_extension": ".py",
   "mimetype": "text/x-python",
   "name": "python",
   "nbconvert_exporter": "python",
   "pygments_lexer": "ipython2",
   "version": "2.7.6"
  }
 },
 "nbformat": 4,
 "nbformat_minor": 5
}
