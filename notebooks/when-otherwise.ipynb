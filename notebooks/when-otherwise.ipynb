{
 "cells": [
  {
   "cell_type": "code",
   "execution_count": 3,
   "id": "initial_id",
   "metadata": {
    "collapsed": true,
    "ExecuteTime": {
     "end_time": "2024-03-09T20:08:46.388418Z",
     "start_time": "2024-03-09T20:08:45.496286Z"
    }
   },
   "outputs": [
    {
     "name": "stdout",
     "output_type": "stream",
     "text": [
      "+------------------+----------+\n",
      "|              name| premiered|\n",
      "+------------------+----------+\n",
      "|        The Affair|2014-10-12|\n",
      "|   Jane the Virgin|2014-10-13|\n",
      "|          Marry Me|2014-10-14|\n",
      "|Two and a Half Men|2003-09-22|\n",
      "|       About a Boy|2014-02-22|\n",
      "+------------------+----------+\n"
     ]
    }
   ],
   "source": [
    "from pyspark.sql import SparkSession\n",
    "import os\n",
    "import pyspark.sql.functions as F\n",
    "spark = (\n",
    "    SparkSession\n",
    "    .builder\n",
    "    .master(\"local[*]\")\n",
    "    .getOrCreate()\n",
    ")\n",
    "df = spark.read.parquet(\n",
    "    os.path.join(\"/opt/workspace\", \"parquet\")\n",
    ").select(\n",
    "    F.col(\"name\"),\n",
    "    F.col(\"premiered\"),\n",
    ")\n",
    "df.show(5)"
   ]
  },
  {
   "cell_type": "markdown",
   "source": [
    "use .when() and .otherwise() to create a new column called `era` that categorizes the `premiered` column into the following eras: 20s, teens, naughties, 20th century."
   ],
   "metadata": {
    "collapsed": false
   },
   "id": "69f9610fb9cdccf0"
  },
  {
   "cell_type": "code",
   "outputs": [
    {
     "name": "stdout",
     "output_type": "stream",
     "text": [
      "+------------------+----------+---------+\n",
      "|              name| premiered|      era|\n",
      "+------------------+----------+---------+\n",
      "|        The Affair|2014-10-12|    teens|\n",
      "|   Jane the Virgin|2014-10-13|    teens|\n",
      "|          Marry Me|2014-10-14|    teens|\n",
      "|Two and a Half Men|2003-09-22|naughties|\n",
      "|       About a Boy|2014-02-22|    teens|\n",
      "+------------------+----------+---------+\n"
     ]
    }
   ],
   "source": [
    "df.select(\n",
    "    F.col(\"name\"),\n",
    "    F.col(\"premiered\"),\n",
    "    F.when((F.year(F.col(\"premiered\")) < 2030) & (F.year(F.col(\"premiered\")) >= 2020), \"20s\")\n",
    "     .when((F.year(F.col(\"premiered\")) < 2020) & (F.year(F.col(\"premiered\")) >= 2010), \"teens\")\n",
    "     .when((F.year(F.col(\"premiered\")) < 2010) & (F.year(F.col(\"premiered\")) >= 2000), \"naughties\")\n",
    "     .otherwise(\"20th century\")\n",
    "     .alias(\"era\"),\n",
    ").show(5)"
   ],
   "metadata": {
    "collapsed": false,
    "ExecuteTime": {
     "end_time": "2024-03-09T20:16:32.912324Z",
     "start_time": "2024-03-09T20:16:32.295485Z"
    }
   },
   "id": "708784b07f4bf5fa",
   "execution_count": 6
  },
  {
   "cell_type": "markdown",
   "source": [
    "use expr() and SQL case to create a new column called `era` that categorizes the `premiered` column into the following eras: 20s, teens, naughties, 20th century."
   ],
   "metadata": {
    "collapsed": false
   },
   "id": "51baf4b3bce302cb"
  },
  {
   "cell_type": "code",
   "outputs": [
    {
     "name": "stdout",
     "output_type": "stream",
     "text": [
      "+------------------+----------+---------+\n",
      "|              name| premiered|      era|\n",
      "+------------------+----------+---------+\n",
      "|        The Affair|2014-10-12|    teens|\n",
      "|   Jane the Virgin|2014-10-13|    teens|\n",
      "|          Marry Me|2014-10-14|    teens|\n",
      "|Two and a Half Men|2003-09-22|naughties|\n",
      "|       About a Boy|2014-02-22|    teens|\n",
      "+------------------+----------+---------+\n"
     ]
    }
   ],
   "source": [
    "df.select(\n",
    "    F.col(\"name\"),\n",
    "    F.col(\"premiered\"),\n",
    "    F.expr(\n",
    "        \"\"\"\n",
    "        CASE\n",
    "            WHEN year(premiered) < 2030 AND year(premiered) >= 2020 THEN '20s'\n",
    "            WHEN year(premiered) < 2020 AND year(premiered) >= 2010 THEN 'teens'\n",
    "            WHEN year(premiered) < 2010 AND year(premiered) >= 2000 THEN 'naughties'\n",
    "            ELSE '20th century'\n",
    "        END AS era\n",
    "        \"\"\"\n",
    "    )\n",
    ").show(5)"
   ],
   "metadata": {
    "collapsed": false,
    "ExecuteTime": {
     "end_time": "2024-03-09T20:19:26.975053Z",
     "start_time": "2024-03-09T20:19:25.949132Z"
    }
   },
   "id": "54ea269e5a797b59",
   "execution_count": 7
  }
 ],
 "metadata": {
  "kernelspec": {
   "display_name": "Python 3",
   "language": "python",
   "name": "python3"
  },
  "language_info": {
   "codemirror_mode": {
    "name": "ipython",
    "version": 2
   },
   "file_extension": ".py",
   "mimetype": "text/x-python",
   "name": "python",
   "nbconvert_exporter": "python",
   "pygments_lexer": "ipython2",
   "version": "2.7.6"
  }
 },
 "nbformat": 4,
 "nbformat_minor": 5
}
