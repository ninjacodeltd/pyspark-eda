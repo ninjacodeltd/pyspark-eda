{
 "cells": [
  {
   "cell_type": "code",
   "outputs": [],
   "source": [
    "from pyspark.sql import SparkSession\n",
    "\n",
    "spark = (\n",
    "    SparkSession\n",
    "    .builder\n",
    "    .master(\"local[*]\")\n",
    "    .getOrCreate()\n",
    ")"
   ],
   "metadata": {
    "collapsed": false,
    "ExecuteTime": {
     "end_time": "2024-02-25T14:38:06.457587Z",
     "start_time": "2024-02-25T14:38:01.329628Z"
    }
   },
   "id": "45221eb9955942fd",
   "execution_count": 1
  },
  {
   "cell_type": "markdown",
   "source": [
    "Load the .mp4 files using binaryFile format and glob filter"
   ],
   "metadata": {
    "collapsed": false
   },
   "id": "f542987836a94805"
  },
  {
   "cell_type": "code",
   "outputs": [
    {
     "name": "stdout",
     "output_type": "stream",
     "text": [
      "+--------------------+-------------------+------+--------------------+\n",
      "|                path|   modificationTime|length|             content|\n",
      "+--------------------+-------------------+------+--------------------+\n",
      "|file:/opt/workspa...|2023-03-16 15:17:52|297293|[00 00 00 20 66 7...|\n",
      "|file:/opt/workspa...|2023-03-16 15:17:52|155292|[00 00 00 20 66 7...|\n",
      "|file:/opt/workspa...|2023-03-16 15:17:52|130196|[00 00 00 20 66 7...|\n",
      "|file:/opt/workspa...|2023-03-16 15:17:52|119643|[00 00 00 20 66 7...|\n",
      "|file:/opt/workspa...|2023-03-16 15:17:52| 55801|[00 00 00 20 66 7...|\n",
      "+--------------------+-------------------+------+--------------------+\n"
     ]
    }
   ],
   "source": [
    "import os\n",
    "df = spark.read.format(\"binaryFile\").option(\"pathGlobFilter\", \"*.mp4\").load(os.path.join(\"/opt/workspace\", \"media/video\"))\n",
    "df.show(5)"
   ],
   "metadata": {
    "collapsed": false,
    "ExecuteTime": {
     "end_time": "2024-02-25T14:38:14.754507Z",
     "start_time": "2024-02-25T14:38:08.738685Z"
    }
   },
   "id": "591717d8f8616bdb",
   "execution_count": 2
  },
  {
   "cell_type": "markdown",
   "source": [
    "Extract the number of frames, fps and bitrate from the video files"
   ],
   "metadata": {
    "collapsed": false
   },
   "id": "7b3f8213e273e0af"
  },
  {
   "cell_type": "code",
   "outputs": [
    {
     "name": "stdout",
     "output_type": "stream",
     "text": [
      "+-----------------------------------------------+\n",
      "|video_features                                 |\n",
      "+-----------------------------------------------+\n",
      "|{frame_count -> 32, fps -> 10, bitrate -> 743} |\n",
      "|{frame_count -> 13, fps -> 10, bitrate -> 955} |\n",
      "|{frame_count -> 10, fps -> 10, bitrate -> 1041}|\n",
      "|{frame_count -> 8, fps -> 10, bitrate -> 1196} |\n",
      "|{frame_count -> 4, fps -> 10, bitrate -> 1116} |\n",
      "+-----------------------------------------------+\n"
     ]
    }
   ],
   "source": [
    "import pyspark.sql.functions as F\n",
    "from pyspark.sql.pandas.functions import pandas_udf\n",
    "import pyspark.sql.types as T\n",
    "import pandas as pd\n",
    "\n",
    "@pandas_udf(returnType=T.MapType(T.StringType(), T.IntegerType()))\n",
    "def extract_number_of_frames(file_paths: pd.Series) -> pd.Series:\n",
    "    import cv2\n",
    "    def fn(path):\n",
    "        cap = cv2.VideoCapture(path.replace(\"file:\", \"\"))\n",
    "        frame_count = int(cap.get(cv2.CAP_PROP_FRAME_COUNT))\n",
    "        fps = int(cap.get(cv2.CAP_PROP_FPS))\n",
    "        bitrate = int(cap.get(cv2.CAP_PROP_BITRATE))\n",
    "        return {\"frame_count\": frame_count, \"fps\": fps, \"bitrate\": bitrate}\n",
    "\n",
    "    return pd.Series([fn(path) for path in file_paths.tolist()])\n",
    "\n",
    "\n",
    "features_df = df.withColumn(\"video_features\", extract_number_of_frames(F.col(\"path\")))\n",
    "features_df.select(F.col(\"video_features\")).show(5, truncate=False)"
   ],
   "metadata": {
    "collapsed": false,
    "ExecuteTime": {
     "end_time": "2024-02-25T14:50:49.745137Z",
     "start_time": "2024-02-25T14:50:48.852902Z"
    }
   },
   "id": "12b2e59670b046f6",
   "execution_count": 31
  }
 ],
 "metadata": {
  "kernelspec": {
   "display_name": "Python 3",
   "language": "python",
   "name": "python3"
  },
  "language_info": {
   "codemirror_mode": {
    "name": "ipython",
    "version": 2
   },
   "file_extension": ".py",
   "mimetype": "text/x-python",
   "name": "python",
   "nbconvert_exporter": "python",
   "pygments_lexer": "ipython2",
   "version": "2.7.6"
  }
 },
 "nbformat": 4,
 "nbformat_minor": 5
}
