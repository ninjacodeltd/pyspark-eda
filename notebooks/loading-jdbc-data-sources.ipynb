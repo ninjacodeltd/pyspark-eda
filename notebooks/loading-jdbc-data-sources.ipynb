{
 "cells": [
  {
   "cell_type": "markdown",
   "source": [
    "https://spark.apache.org/docs/latest/sql-data-sources-jdbc.html"
   ],
   "metadata": {
    "collapsed": false
   },
   "id": "4684cf66b7a848eb"
  },
  {
   "cell_type": "code",
   "outputs": [],
   "source": [
    "from pyspark.sql import SparkSession\n",
    "packages = [\n",
    "    'org.postgresql:postgresql:42.7.1'\n",
    "]\n",
    "\n",
    "spark = (\n",
    "    SparkSession\n",
    "    .builder\n",
    "    .master(\"local[*]\")\n",
    "    .config('spark.jars.packages', \",\".join(packages))\n",
    "    .getOrCreate()\n",
    ")"
   ],
   "metadata": {
    "collapsed": true,
    "ExecuteTime": {
     "end_time": "2024-01-20T16:09:08.933566Z",
     "start_time": "2024-01-20T16:09:06.524308Z"
    }
   },
   "id": "initial_id",
   "execution_count": 2
  },
  {
   "cell_type": "markdown",
   "source": [
    "load data from postgresql db table"
   ],
   "metadata": {
    "collapsed": false
   },
   "id": "93586c7a2ffb8963"
  },
  {
   "cell_type": "code",
   "outputs": [
    {
     "name": "stdout",
     "output_type": "stream",
     "text": [
      "+---+--------------+------------+-------------+----------+----------+\n",
      "| id|          name|country_code|     district|population|local_name|\n",
      "+---+--------------+------------+-------------+----------+----------+\n",
      "|  1|         Kabul|         AFG|        Kabol|   1780000|      NULL|\n",
      "|  2|      Qandahar|         AFG|     Qandahar|    237500|      NULL|\n",
      "|  3|         Herat|         AFG|        Herat|    186800|      NULL|\n",
      "|  4|Mazar-e-Sharif|         AFG|        Balkh|    127800|      NULL|\n",
      "|  5|     Amsterdam|         NLD|Noord-Holland|    731200|      NULL|\n",
      "+---+--------------+------------+-------------+----------+----------+\n"
     ]
    }
   ],
   "source": [
    "jdbc = (\n",
    "    spark.read \n",
    "    .jdbc(\n",
    "        \"jdbc:postgresql://postgresql-world-db:5432/world-db\", \n",
    "        \"public.city\",\n",
    "        properties={\n",
    "            \"user\": \"world\", \n",
    "            \"password\": \"world123\",\n",
    "            \"driver\": \"org.postgresql.Driver\"\n",
    "        }\n",
    "    )\n",
    ")\n",
    "jdbc.show(5)"
   ],
   "metadata": {
    "collapsed": false,
    "ExecuteTime": {
     "end_time": "2024-01-20T16:09:24.633723Z",
     "start_time": "2024-01-20T16:09:12.602881Z"
    }
   },
   "id": "75911a3096a58297",
   "execution_count": 3
  },
  {
   "cell_type": "markdown",
   "source": [
    "using spark.read.format api to read from a postgresql db table"
   ],
   "metadata": {
    "collapsed": false
   },
   "id": "16968f91b6afdf14"
  },
  {
   "cell_type": "code",
   "outputs": [
    {
     "name": "stdout",
     "output_type": "stream",
     "text": [
      "+---+--------------+------------+-------------+----------+----------+\n",
      "| id|          name|country_code|     district|population|local_name|\n",
      "+---+--------------+------------+-------------+----------+----------+\n",
      "|  1|         Kabul|         AFG|        Kabol|   1780000|      NULL|\n",
      "|  2|      Qandahar|         AFG|     Qandahar|    237500|      NULL|\n",
      "|  3|         Herat|         AFG|        Herat|    186800|      NULL|\n",
      "|  4|Mazar-e-Sharif|         AFG|        Balkh|    127800|      NULL|\n",
      "|  5|     Amsterdam|         NLD|Noord-Holland|    731200|      NULL|\n",
      "+---+--------------+------------+-------------+----------+----------+\n"
     ]
    }
   ],
   "source": [
    "jdbc = (\n",
    "    spark.read \n",
    "    .format(\"jdbc\")\n",
    "    .option(\"url\", \"jdbc:postgresql://postgresql-world-db:5432/world-db\")\n",
    "    .option(\"user\", \"world\")\n",
    "    .option(\"password\", \"world123\")\n",
    "    .option(\"driver\", \"org.postgresql.Driver\")\n",
    "    .option(\"dbtable\", \"public.city\")\n",
    "    .load()\n",
    ")\n",
    "jdbc.show(5)"
   ],
   "metadata": {
    "collapsed": false,
    "ExecuteTime": {
     "end_time": "2024-01-20T16:34:19.285743Z",
     "start_time": "2024-01-20T16:34:17.797162Z"
    }
   },
   "id": "9e006ccc1344a769",
   "execution_count": 10
  },
  {
   "cell_type": "markdown",
   "source": [
    "load data from postgresql db using a SQL query "
   ],
   "metadata": {
    "collapsed": false
   },
   "id": "1b680a4128ca8631"
  },
  {
   "cell_type": "code",
   "outputs": [
    {
     "name": "stdout",
     "output_type": "stream",
     "text": [
      "+--------------------+---------+\n",
      "|                name|continent|\n",
      "+--------------------+---------+\n",
      "|         Netherlands|   Europe|\n",
      "|             Albania|   Europe|\n",
      "|             Andorra|   Europe|\n",
      "|             Belgium|   Europe|\n",
      "|Bosnia and Herzeg...|   Europe|\n",
      "+--------------------+---------+\n"
     ]
    }
   ],
   "source": [
    "jdbc = (\n",
    "    spark.read \n",
    "    .format(\"jdbc\")\n",
    "    .option(\"url\", \"jdbc:postgresql://postgresql-world-db:5432/world-db\")\n",
    "    .option(\"user\", \"world\")\n",
    "    .option(\"password\", \"world123\")\n",
    "    .option(\"driver\", \"org.postgresql.Driver\")\n",
    "    .option(\"query\", \"select name, continent from public.country where continent = 'Europe'\")\n",
    "    .load()\n",
    ")\n",
    "jdbc.show(5)"
   ],
   "metadata": {
    "collapsed": false,
    "ExecuteTime": {
     "end_time": "2024-01-20T16:35:01.546146Z",
     "start_time": "2024-01-20T16:35:01.135876Z"
    }
   },
   "id": "70d30710c2a982da",
   "execution_count": 12
  }
 ],
 "metadata": {
  "kernelspec": {
   "display_name": "Python 3",
   "language": "python",
   "name": "python3"
  },
  "language_info": {
   "codemirror_mode": {
    "name": "ipython",
    "version": 2
   },
   "file_extension": ".py",
   "mimetype": "text/x-python",
   "name": "python",
   "nbconvert_exporter": "python",
   "pygments_lexer": "ipython2",
   "version": "2.7.6"
  }
 },
 "nbformat": 4,
 "nbformat_minor": 5
}
