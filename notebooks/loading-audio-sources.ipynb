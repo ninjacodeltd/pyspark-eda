{
 "cells": [
  {
   "cell_type": "code",
   "outputs": [],
   "source": [
    "from pyspark.sql import SparkSession\n",
    "\n",
    "spark = (\n",
    "    SparkSession\n",
    "    .builder\n",
    "    .master(\"local[*]\")\n",
    "    .getOrCreate()\n",
    ")"
   ],
   "metadata": {
    "collapsed": false,
    "ExecuteTime": {
     "end_time": "2024-02-21T20:58:04.457615Z",
     "start_time": "2024-02-21T20:57:59.190027Z"
    }
   },
   "id": "e41c90b9407bcba3",
   "execution_count": 7
  },
  {
   "cell_type": "markdown",
   "source": [
    "Load the .wav files using binaryFile format and glob filter"
   ],
   "metadata": {
    "collapsed": false
   },
   "id": "2f32129e9fd37013"
  },
  {
   "cell_type": "markdown",
   "source": [],
   "metadata": {
    "collapsed": false
   },
   "id": "5adf7ddd0fbff382"
  },
  {
   "cell_type": "code",
   "outputs": [
    {
     "name": "stdout",
     "output_type": "stream",
     "text": [
      "+--------------------+-------------------+------+--------------------+\n",
      "|                path|   modificationTime|length|             content|\n",
      "+--------------------+-------------------+------+--------------------+\n",
      "|file:/opt/workspa...|2019-09-21 03:56:22|503062|[52 49 46 46 0E A...|\n",
      "|file:/opt/workspa...|2019-09-21 03:56:22|384044|[52 49 46 46 24 D...|\n",
      "|file:/opt/workspa...|2019-09-21 03:56:22|380162|[52 49 46 46 FA C...|\n",
      "|file:/opt/workspa...|2019-09-21 03:56:22|368044|[52 49 46 46 A4 9...|\n",
      "|file:/opt/workspa...|2019-09-21 03:56:22|361644|[52 49 46 46 A4 8...|\n",
      "+--------------------+-------------------+------+--------------------+\n"
     ]
    }
   ],
   "source": [
    "import os\n",
    "df = spark.read.format(\"binaryFile\").option(\"pathGlobFilter\", \"*.wav\").load(os.path.join(\"/opt/workspace\", \"media/audio\"))\n",
    "df.show(5)"
   ],
   "metadata": {
    "collapsed": false,
    "ExecuteTime": {
     "end_time": "2024-02-21T20:58:13.741152Z",
     "start_time": "2024-02-21T20:58:06.727694Z"
    }
   },
   "id": "b89b205817b5d09e",
   "execution_count": 8
  },
  {
   "cell_type": "markdown",
   "source": [
    "Extract audio features using pyAudioAnalysis"
   ],
   "metadata": {
    "collapsed": false
   },
   "id": "c6e9d1d0c65e20f4"
  },
  {
   "cell_type": "code",
   "outputs": [
    {
     "name": "stdout",
     "output_type": "stream",
     "text": [
      "+--------------------+-------------------+------+--------------------+--------------------+\n",
      "|                path|   modificationTime|length|             content|      audio_features|\n",
      "+--------------------+-------------------+------+--------------------+--------------------+\n",
      "|file:/opt/workspa...|2019-09-21 03:56:22|503062|[52 49 46 46 0E A...|{zcr -> [0.083885...|\n",
      "|file:/opt/workspa...|2019-09-21 03:56:22|384044|[52 49 46 46 24 D...|{zcr -> [0.077509...|\n",
      "|file:/opt/workspa...|2019-09-21 03:56:22|380162|[52 49 46 46 FA C...|{zcr -> [0.021502...|\n",
      "|file:/opt/workspa...|2019-09-21 03:56:22|368044|[52 49 46 46 A4 9...|{zcr -> [0.079884...|\n",
      "|file:/opt/workspa...|2019-09-21 03:56:22|361644|[52 49 46 46 A4 8...|{zcr -> [0.140892...|\n",
      "+--------------------+-------------------+------+--------------------+--------------------+\n"
     ]
    }
   ],
   "source": [
    "import pyspark.sql.functions as F\n",
    "from pyspark.sql.pandas.functions import pandas_udf\n",
    "import pyspark.sql.types as T\n",
    "import pandas as pd\n",
    "\n",
    "@pandas_udf(returnType=T.MapType(T.StringType(), T.ArrayType(T.FloatType())))\n",
    "def extract_audio_features(file_paths: pd.Series) -> pd.Series:\n",
    "    from pyAudioAnalysis import ShortTermFeatures, audioBasicIO\n",
    "    def fn(path):\n",
    "        [sampling_rate, signal] = audioBasicIO.read_audio_file(path.replace(\"file:\", \"\"))\n",
    "        window = 0.5 * sampling_rate\n",
    "        step = 0.5 * sampling_rate\n",
    "        features, f_names = ShortTermFeatures.feature_extraction(signal, sampling_rate, window, step)\n",
    "        return dict(zip(f_names, features))\n",
    "    \n",
    "    return pd.Series([fn(path) for path in file_paths.tolist()])\n",
    "\n",
    "\n",
    "features_df = df.withColumn(\"audio_features\", extract_audio_features(F.col(\"path\")))\n",
    "features_df.show(5)"
   ],
   "metadata": {
    "collapsed": false,
    "ExecuteTime": {
     "end_time": "2024-02-21T21:00:30.156932Z",
     "start_time": "2024-02-21T21:00:26.277438Z"
    }
   },
   "id": "6e0090fd0895da6c",
   "execution_count": 12
  }
 ],
 "metadata": {
  "kernelspec": {
   "display_name": "Python 3",
   "language": "python",
   "name": "python3"
  },
  "language_info": {
   "codemirror_mode": {
    "name": "ipython",
    "version": 2
   },
   "file_extension": ".py",
   "mimetype": "text/x-python",
   "name": "python",
   "nbconvert_exporter": "python",
   "pygments_lexer": "ipython2",
   "version": "2.7.6"
  }
 },
 "nbformat": 4,
 "nbformat_minor": 5
}
