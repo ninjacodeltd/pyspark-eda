{
 "cells": [
  {
   "cell_type": "code",
   "outputs": [],
   "source": [
    "from pyspark.sql import SparkSession\n",
    "\n",
    "spark = (\n",
    "    SparkSession\n",
    "    .builder\n",
    "    .master(\"local[*]\")\n",
    "    .getOrCreate()\n",
    ")"
   ],
   "metadata": {
    "collapsed": false,
    "ExecuteTime": {
     "end_time": "2024-02-25T16:49:48.085113Z",
     "start_time": "2024-02-25T16:49:43.192193Z"
    }
   },
   "id": "94d3b3dd197ec80d",
   "execution_count": 1
  },
  {
   "cell_type": "markdown",
   "source": [
    "load a text file"
   ],
   "metadata": {
    "collapsed": false
   },
   "id": "8374fb0eb3fbdd26"
  },
  {
   "cell_type": "code",
   "outputs": [
    {
     "name": "stdout",
     "output_type": "stream",
     "text": [
      "+--------------------+\n",
      "|               value|\n",
      "+--------------------+\n",
      "|                    |\n",
      "|Project Gutenberg...|\n",
      "|                    |\n",
      "|This eBook is for...|\n",
      "|almost no restric...|\n",
      "+--------------------+\n"
     ]
    }
   ],
   "source": [
    "import os\n",
    "txt = spark.read.text(\n",
    "    os.path.join(\"/opt/workspace\", \"books/frankenstein.txt\"),\n",
    ")\n",
    "txt.show(5)"
   ],
   "metadata": {
    "collapsed": false,
    "ExecuteTime": {
     "end_time": "2024-01-19T22:27:41.147783Z",
     "start_time": "2024-01-19T22:27:40.322158Z"
    }
   },
   "id": "d1ffc50348ee06db",
   "execution_count": 19
  },
  {
   "cell_type": "markdown",
   "source": [
    "load a text file into a dataframe using a space as the separator"
   ],
   "metadata": {
    "collapsed": false
   },
   "id": "f8abaedd8e329ee6"
  },
  {
   "cell_type": "code",
   "outputs": [
    {
     "name": "stdout",
     "output_type": "stream",
     "text": [
      "+-----------+\n",
      "|      value|\n",
      "+-----------+\n",
      "|  \\nProject|\n",
      "|Gutenberg's|\n",
      "|        The|\n",
      "| Adventures|\n",
      "|         of|\n",
      "+-----------+\n"
     ]
    }
   ],
   "source": [
    "import os\n",
    "txt = spark.read.text(\n",
    "    os.path.join(\"/opt/workspace\", \"books/*.txt\"), lineSep=' '\n",
    ")\n",
    "txt.show(5)"
   ],
   "metadata": {
    "collapsed": false,
    "ExecuteTime": {
     "end_time": "2024-01-19T22:52:14.032437Z",
     "start_time": "2024-01-19T22:52:13.432979Z"
    }
   },
   "id": "ba0e90657970b0b9",
   "execution_count": 25
  },
  {
   "cell_type": "markdown",
   "source": [
    "load multiple text files using a glob pattern"
   ],
   "metadata": {
    "collapsed": false
   },
   "id": "1c9e7e516227cea7"
  },
  {
   "cell_type": "code",
   "outputs": [
    {
     "name": "stdout",
     "output_type": "stream",
     "text": [
      "+--------------------+\n",
      "|               value|\n",
      "+--------------------+\n",
      "|\\nProject Gutenbe...|\n",
      "|\\nProject Gutenbe...|\n",
      "+--------------------+\n"
     ]
    }
   ],
   "source": [
    "import os\n",
    "txt = spark.read.text(\n",
    "    os.path.join(\"/opt/workspace\", \"books/*.txt\"), wholetext=True\n",
    ")\n",
    "txt.show(5)"
   ],
   "metadata": {
    "collapsed": false,
    "ExecuteTime": {
     "end_time": "2024-01-19T22:50:41.709825Z",
     "start_time": "2024-01-19T22:50:40.330325Z"
    }
   },
   "id": "2c63acaf6da8ff4c",
   "execution_count": 24
  }
 ],
 "metadata": {
  "kernelspec": {
   "display_name": "Python 3",
   "language": "python",
   "name": "python3"
  },
  "language_info": {
   "codemirror_mode": {
    "name": "ipython",
    "version": 2
   },
   "file_extension": ".py",
   "mimetype": "text/x-python",
   "name": "python",
   "nbconvert_exporter": "python",
   "pygments_lexer": "ipython2",
   "version": "2.7.6"
  }
 },
 "nbformat": 4,
 "nbformat_minor": 5
}
