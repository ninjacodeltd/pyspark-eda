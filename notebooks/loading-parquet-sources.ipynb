{
 "cells": [
  {
   "cell_type": "code",
   "execution_count": 1,
   "id": "initial_id",
   "metadata": {
    "collapsed": true,
    "ExecuteTime": {
     "end_time": "2024-02-25T19:44:23.541482Z",
     "start_time": "2024-02-25T19:44:17.723802Z"
    }
   },
   "outputs": [],
   "source": [
    "from pyspark.sql import SparkSession\n",
    "spark = (\n",
    "    SparkSession\n",
    "    .builder\n",
    "    .master(\"local[*]\")\n",
    "    .getOrCreate()\n",
    ")"
   ]
  },
  {
   "cell_type": "markdown",
   "source": [
    "load a single parquet file"
   ],
   "metadata": {
    "collapsed": false
   },
   "id": "3e004c9b3fb7cb33"
  },
  {
   "cell_type": "code",
   "outputs": [
    {
     "name": "stdout",
     "output_type": "stream",
     "text": [
      "+--------------------+--------------------+--------------------+---+--------------------+--------+-------------------+--------------------+--------------------+----------+------+-------+-----------------+-------+--------------------+----------+--------------------+------------------+------+\n",
      "|              _links|           externals|              genres| id|               image|language|               name|             network|        officialSite| premiered|rating|runtime|         schedule| status|             summary|   updated|                 url|        webChannel|weight|\n",
      "+--------------------+--------------------+--------------------+---+--------------------+--------+-------------------+--------------------+--------------------+----------+------+-------+-----------------+-------+--------------------+----------+--------------------+------------------+------+\n",
      "|{NULL, {http://ap...|{tt1695360, 25108...|[Action, Adventur...|178|{http://static.tv...| English|The Legend of Korra|{{US, United Stat...|http://www.nick.c...|2012-04-14| {8.8}|     30|{[Friday], 12:00}|  Ended|<p>Avatar Korra f...|1535215074|http://www.tvmaze...|              NULL|    80|\n",
      "|{{http://api.tvma...|{tt3398228, 28225...|     [Drama, Comedy]|184|{http://static.tv...| English|    BoJack Horseman|                NULL|http://www.netfli...|2014-08-22| {8.1}|     25|     {[Friday], }|Running|<p>Meet the most ...|1536117653|http://www.tvmaze...|{NULL, 1, Netflix}|    97|\n",
      "|{NULL, {http://ap...|{tt0397306, 73141...|    [Comedy, Family]|215|{http://static.tv...| English|      American Dad!|{{US, United Stat...|http://www.tbs.co...|2005-02-06| {7.6}|     30|{[Monday], 22:00}|Running|<p>In <b>American...|1535454521|http://www.tvmaze...|              NULL|    94|\n",
      "|{NULL, {http://ap...|{tt2861424, 27527...|[Comedy, Adventur...|216|{http://static.tv...| English|     Rick and Morty|{{US, United Stat...|http://www.adults...|2013-12-02| {9.4}|     30|{[Sunday], 23:30}|Running|<p>Rick is a ment...|1533638739|http://www.tvmaze...|              NULL|    92|\n",
      "|{NULL, {http://ap...|{tt0325547, 71278...|[Anime, Horror, S...| 25|{http://static.tv...|Japanese|           Hellsing|{{JP, Japan, Asia...|                NULL|2001-10-10| {8.3}|     30|  {[Wednesday], }|  Ended|<p><b>Hellsing </...|1504676730|http://www.tvmaze...|              NULL|    22|\n",
      "+--------------------+--------------------+--------------------+---+--------------------+--------+-------------------+--------------------+--------------------+----------+------+-------+-----------------+-------+--------------------+----------+--------------------+------------------+------+\n"
     ]
    }
   ],
   "source": [
    "import os\n",
    "parquet = spark.read.parquet(\n",
    "    os.path.join(\"/opt/workspace\", \"parquet/tv-shows=animation.parquet\")\n",
    ")\n",
    "parquet.show(5)"
   ],
   "metadata": {
    "collapsed": false,
    "ExecuteTime": {
     "end_time": "2024-02-25T19:44:31.091220Z",
     "start_time": "2024-02-25T19:44:23.547678Z"
    }
   },
   "id": "7056b10f320c944",
   "execution_count": 2
  },
  {
   "cell_type": "markdown",
   "source": [
    "load multiple parquet files by unpacking a list of file paths"
   ],
   "metadata": {
    "collapsed": false
   },
   "id": "92f63d852b7dd177"
  },
  {
   "cell_type": "code",
   "outputs": [
    {
     "name": "stdout",
     "output_type": "stream",
     "text": [
      "+--------------------+--------------------+--------------------+---+--------------------+--------+-------------------+--------------------+--------------------+----------+------+-------+-----------------+-------+--------------------+----------+--------------------+------------------+------+\n",
      "|              _links|           externals|              genres| id|               image|language|               name|             network|        officialSite| premiered|rating|runtime|         schedule| status|             summary|   updated|                 url|        webChannel|weight|\n",
      "+--------------------+--------------------+--------------------+---+--------------------+--------+-------------------+--------------------+--------------------+----------+------+-------+-----------------+-------+--------------------+----------+--------------------+------------------+------+\n",
      "|{NULL, {http://ap...|{tt1695360, 25108...|[Action, Adventur...|178|{http://static.tv...| English|The Legend of Korra|{{US, United Stat...|http://www.nick.c...|2012-04-14| {8.8}|     30|{[Friday], 12:00}|  Ended|<p>Avatar Korra f...|1535215074|http://www.tvmaze...|              NULL|    80|\n",
      "|{{http://api.tvma...|{tt3398228, 28225...|     [Drama, Comedy]|184|{http://static.tv...| English|    BoJack Horseman|                NULL|http://www.netfli...|2014-08-22| {8.1}|     25|     {[Friday], }|Running|<p>Meet the most ...|1536117653|http://www.tvmaze...|{NULL, 1, Netflix}|    97|\n",
      "|{NULL, {http://ap...|{tt0397306, 73141...|    [Comedy, Family]|215|{http://static.tv...| English|      American Dad!|{{US, United Stat...|http://www.tbs.co...|2005-02-06| {7.6}|     30|{[Monday], 22:00}|Running|<p>In <b>American...|1535454521|http://www.tvmaze...|              NULL|    94|\n",
      "|{NULL, {http://ap...|{tt2861424, 27527...|[Comedy, Adventur...|216|{http://static.tv...| English|     Rick and Morty|{{US, United Stat...|http://www.adults...|2013-12-02| {9.4}|     30|{[Sunday], 23:30}|Running|<p>Rick is a ment...|1533638739|http://www.tvmaze...|              NULL|    92|\n",
      "|{NULL, {http://ap...|{tt0325547, 71278...|[Anime, Horror, S...| 25|{http://static.tv...|Japanese|           Hellsing|{{JP, Japan, Asia...|                NULL|2001-10-10| {8.3}|     30|  {[Wednesday], }|  Ended|<p><b>Hellsing </...|1504676730|http://www.tvmaze...|              NULL|    22|\n",
      "+--------------------+--------------------+--------------------+---+--------------------+--------+-------------------+--------------------+--------------------+----------+------+-------+-----------------+-------+--------------------+----------+--------------------+------------------+------+\n"
     ]
    }
   ],
   "source": [
    "parquet = spark.read.parquet(\n",
    "    *[\n",
    "        os.path.join(\"/opt/workspace\", \"parquet/tv-shows=animation.parquet\"),\n",
    "        os.path.join(\"/opt/workspace\", \"parquet/tv-shows=documentary.parquet\"),\n",
    "    ]\n",
    ")\n",
    "\n",
    "parquet.show(5)"
   ],
   "metadata": {
    "collapsed": false,
    "ExecuteTime": {
     "end_time": "2024-02-25T19:44:31.891302Z",
     "start_time": "2024-02-25T19:44:31.100313Z"
    }
   },
   "id": "ccfc8c49b50af2cb",
   "execution_count": 3
  },
  {
   "cell_type": "code",
   "outputs": [
    {
     "name": "stdout",
     "output_type": "stream",
     "text": [
      "+--------------------+--------------------+--------------------+---+--------------------+--------+------------------+--------------------+--------------------+----------+------+-------+-------------------+-------+--------------------+----------+--------------------+----------+------+\n",
      "|              _links|           externals|              genres| id|               image|language|              name|             network|        officialSite| premiered|rating|runtime|           schedule| status|             summary|   updated|                 url|webChannel|weight|\n",
      "+--------------------+--------------------+--------------------+---+--------------------+--------+------------------+--------------------+--------------------+----------+------+-------+-------------------+-------+--------------------+----------+--------------------+----------+------+\n",
      "|{NULL, {http://ap...|{tt2699110, 27043...|    [Drama, Romance]|127|{http://static.tv...| English|        The Affair|{{US, United Stat...|http://www.sho.co...|2014-10-12| {7.4}|     60|  {[Sunday], 21:00}|Running|<p>At once deeply...|1534872610|http://www.tvmaze...|      NULL|   100|\n",
      "|{NULL, {http://ap...|{tt3566726, 28162...|[Drama, Comedy, R...|128|{http://static.tv...| English|   Jane the Virgin|{{US, United Stat...|http://www.cwtv.c...|2014-10-13| {7.8}|     60|  {[Friday], 21:00}|Running|<p>When Jane Vill...|1536410972|http://www.tvmaze...|      NULL|    95|\n",
      "|{NULL, {http://ap...|{tt3460454, 28158...|            [Comedy]|129|{http://static.tv...| English|          Marry Me|{{US, United Stat...|                NULL|2014-10-14| {6.7}|     30| {[Tuesday], 21:00}|  Ended|<p>Six years ago,...|1504686293|http://www.tvmaze...|      NULL|    77|\n",
      "|{NULL, {http://ap...|{tt0369179, 72227...|            [Comedy]|130|{http://static.tv...| English|Two and a Half Men|{{US, United Stat...|http://www.cbs.co...|2003-09-22| {6.6}|     30|{[Thursday], 21:00}|  Ended|<p>Charlie is a w...|1534330472|http://www.tvmaze...|      NULL|    82|\n",
      "|{NULL, {http://ap...|{tt2666270, 26959...|[Drama, Comedy, R...|131|{http://static.tv...| English|       About a Boy|{{US, United Stat...|http://www.nbc.co...|2014-02-22| {7.1}|     30| {[Tuesday], 21:30}|  Ended|<p>Will Freeman l...|1486239563|http://www.tvmaze...|      NULL|    73|\n",
      "+--------------------+--------------------+--------------------+---+--------------------+--------+------------------+--------------------+--------------------+----------+------+-------+-------------------+-------+--------------------+----------+--------------------+----------+------+\n"
     ]
    }
   ],
   "source": [
    "# load multiple parquet files using a glob pattern\n",
    "parquet = spark.read.parquet(\n",
    "    os.path.join(\"/opt/workspace\", \"parquet/*.parquet\")\n",
    ")\n",
    "parquet.show(5)"
   ],
   "metadata": {
    "collapsed": false,
    "ExecuteTime": {
     "end_time": "2024-02-25T19:44:33.151174Z",
     "start_time": "2024-02-25T19:44:31.893030Z"
    }
   },
   "id": "ea9288e9270c3273",
   "execution_count": 4
  },
  {
   "cell_type": "code",
   "outputs": [
    {
     "name": "stdout",
     "output_type": "stream",
     "text": [
      "+--------------------+--------------------+--------------------+---+--------------------+--------+------------------+--------------------+--------------------+----------+------+-------+-------------------+-------+--------------------+----------+--------------------+----------+------+\n",
      "|              _links|           externals|              genres| id|               image|language|              name|             network|        officialSite| premiered|rating|runtime|           schedule| status|             summary|   updated|                 url|webChannel|weight|\n",
      "+--------------------+--------------------+--------------------+---+--------------------+--------+------------------+--------------------+--------------------+----------+------+-------+-------------------+-------+--------------------+----------+--------------------+----------+------+\n",
      "|{NULL, {http://ap...|{tt2699110, 27043...|    [Drama, Romance]|127|{http://static.tv...| English|        The Affair|{{US, United Stat...|http://www.sho.co...|2014-10-12| {7.4}|     60|  {[Sunday], 21:00}|Running|<p>At once deeply...|1534872610|http://www.tvmaze...|      NULL|   100|\n",
      "|{NULL, {http://ap...|{tt3566726, 28162...|[Drama, Comedy, R...|128|{http://static.tv...| English|   Jane the Virgin|{{US, United Stat...|http://www.cwtv.c...|2014-10-13| {7.8}|     60|  {[Friday], 21:00}|Running|<p>When Jane Vill...|1536410972|http://www.tvmaze...|      NULL|    95|\n",
      "|{NULL, {http://ap...|{tt3460454, 28158...|            [Comedy]|129|{http://static.tv...| English|          Marry Me|{{US, United Stat...|                NULL|2014-10-14| {6.7}|     30| {[Tuesday], 21:00}|  Ended|<p>Six years ago,...|1504686293|http://www.tvmaze...|      NULL|    77|\n",
      "|{NULL, {http://ap...|{tt0369179, 72227...|            [Comedy]|130|{http://static.tv...| English|Two and a Half Men|{{US, United Stat...|http://www.cbs.co...|2003-09-22| {6.6}|     30|{[Thursday], 21:00}|  Ended|<p>Charlie is a w...|1534330472|http://www.tvmaze...|      NULL|    82|\n",
      "|{NULL, {http://ap...|{tt2666270, 26959...|[Drama, Comedy, R...|131|{http://static.tv...| English|       About a Boy|{{US, United Stat...|http://www.nbc.co...|2014-02-22| {7.1}|     30| {[Tuesday], 21:30}|  Ended|<p>Will Freeman l...|1486239563|http://www.tvmaze...|      NULL|    73|\n",
      "+--------------------+--------------------+--------------------+---+--------------------+--------+------------------+--------------------+--------------------+----------+------+-------+-------------------+-------+--------------------+----------+--------------------+----------+------+\n"
     ]
    }
   ],
   "source": [
    "# load multiple parquet files by specifying a directory\n",
    "parquet = spark.read.parquet(\n",
    "    os.path.join(\"/opt/workspace\", \"parquet\")\n",
    ")\n",
    "parquet.show(5)"
   ],
   "metadata": {
    "collapsed": false,
    "ExecuteTime": {
     "end_time": "2024-02-25T19:44:34.003266Z",
     "start_time": "2024-02-25T19:44:33.158468Z"
    }
   },
   "id": "50ba86399f1f23e2",
   "execution_count": 5
  }
 ],
 "metadata": {
  "kernelspec": {
   "display_name": "Python 3",
   "language": "python",
   "name": "python3"
  },
  "language_info": {
   "codemirror_mode": {
    "name": "ipython",
    "version": 2
   },
   "file_extension": ".py",
   "mimetype": "text/x-python",
   "name": "python",
   "nbconvert_exporter": "python",
   "pygments_lexer": "ipython2",
   "version": "2.7.6"
  }
 },
 "nbformat": 4,
 "nbformat_minor": 5
}
