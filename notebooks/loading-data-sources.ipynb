{
 "cells": [
  {
   "cell_type": "code",
   "outputs": [],
   "source": [
    "from pyspark.sql import SparkSession\n",
    "spark = (\n",
    "    SparkSession\n",
    "    .builder\n",
    "    .master(\"local[*]\")\n",
    "    .getOrCreate()\n",
    ")"
   ],
   "metadata": {
    "collapsed": false,
    "ExecuteTime": {
     "end_time": "2024-02-25T16:49:48.085113Z",
     "start_time": "2024-02-25T16:49:43.192193Z"
    }
   },
   "id": "94d3b3dd197ec80d",
   "execution_count": 1
  },
  {
   "cell_type": "markdown",
   "source": [
    "load the cereal.csv file"
   ],
   "metadata": {
    "collapsed": false
   },
   "id": "111f2ae779eb23c8"
  },
  {
   "cell_type": "code",
   "outputs": [],
   "source": [
    "import os\n",
    "csv = spark.read.csv(\n",
    "    path=os.path.join(\"/opt/workspace\", \"cereal.csv\"),\n",
    "    header=True,\n",
    "    inferSchema=True\n",
    ")"
   ],
   "metadata": {
    "collapsed": false,
    "ExecuteTime": {
     "end_time": "2024-02-25T16:49:55.355426Z",
     "start_time": "2024-02-25T16:49:49.754425Z"
    }
   },
   "id": "d625760270a1ebf2",
   "execution_count": 2
  },
  {
   "cell_type": "markdown",
   "source": [
    "show the first five rows"
   ],
   "metadata": {
    "collapsed": false
   },
   "id": "7db066bd4b1830bf"
  },
  {
   "cell_type": "code",
   "outputs": [
    {
     "name": "stdout",
     "output_type": "stream",
     "text": [
      "+--------------------+---+----+--------+-------+---+------+-----+-----+------+------+--------+-----+------+----+---------+\n",
      "|                name|mfr|type|calories|protein|fat|sodium|fiber|carbo|sugars|potass|vitamins|shelf|weight|cups|   rating|\n",
      "+--------------------+---+----+--------+-------+---+------+-----+-----+------+------+--------+-----+------+----+---------+\n",
      "|           100% Bran|  N|   C|      70|      4|  1|   130| 10.0|  5.0|     6|   280|      25|    3|   1.0|0.33|68.402973|\n",
      "|   100% Natural Bran|  Q|   C|     120|      3|  5|    15|  2.0|  8.0|     8|   135|       0|    3|   1.0| 1.0|33.983679|\n",
      "|            All-Bran|  K|   C|      70|      4|  1|   260|  9.0|  7.0|     5|   320|      25|    3|   1.0|0.33|59.425505|\n",
      "|All-Bran with Ext...|  K|   C|      50|      4|  0|   140| 14.0|  8.0|     0|   330|      25|    3|   1.0| 0.5|93.704912|\n",
      "|      Almond Delight|  R|   C|     110|      2|  2|   200|  1.0| 14.0|     8|    -1|      25|    3|   1.0|0.75|34.384843|\n",
      "+--------------------+---+----+--------+-------+---+------+-----+-----+------+------+--------+-----+------+----+---------+\n"
     ]
    }
   ],
   "source": [
    "csv.show(5)"
   ],
   "metadata": {
    "collapsed": false,
    "ExecuteTime": {
     "end_time": "2024-02-25T16:49:57.124524Z",
     "start_time": "2024-02-25T16:49:56.367855Z"
    }
   },
   "id": "107217fad43fcd03",
   "execution_count": 3
  },
  {
   "cell_type": "code",
   "outputs": [
    {
     "name": "stdout",
     "output_type": "stream",
     "text": [
      "root\n",
      " |-- name: string (nullable = true)\n",
      " |-- mfr: string (nullable = true)\n",
      " |-- type: string (nullable = true)\n",
      " |-- calories: integer (nullable = true)\n",
      " |-- protein: integer (nullable = true)\n",
      " |-- fat: integer (nullable = true)\n",
      " |-- sodium: integer (nullable = true)\n",
      " |-- fiber: double (nullable = true)\n",
      " |-- carbo: double (nullable = true)\n",
      " |-- sugars: integer (nullable = true)\n",
      " |-- potass: integer (nullable = true)\n",
      " |-- vitamins: integer (nullable = true)\n",
      " |-- shelf: integer (nullable = true)\n",
      " |-- weight: double (nullable = true)\n",
      " |-- cups: double (nullable = true)\n",
      " |-- rating: double (nullable = true)\n"
     ]
    }
   ],
   "source": [
    "csv.printSchema()"
   ],
   "metadata": {
    "collapsed": false,
    "ExecuteTime": {
     "end_time": "2024-02-25T16:50:23.135539Z",
     "start_time": "2024-02-25T16:50:23.095409Z"
    }
   },
   "id": "9b5cd39e66cbdc8a",
   "execution_count": 4
  },
  {
   "cell_type": "markdown",
   "source": [
    "load a json file containing a single array of json objects"
   ],
   "metadata": {
    "collapsed": false
   },
   "id": "d0ad2d2513e63e95"
  },
  {
   "cell_type": "code",
   "outputs": [
    {
     "name": "stdout",
     "output_type": "stream",
     "text": [
      "+--------------------+--------------------+--------------------+---+--------------------+--------+------------------+--------------------+--------------------+----------+------+-------+-------------------+-------+--------------------+--------+----------+--------------------+----------+------+\n",
      "|              _links|           externals|              genres| id|               image|language|              name|             network|        officialSite| premiered|rating|runtime|           schedule| status|             summary|    type|   updated|                 url|webChannel|weight|\n",
      "+--------------------+--------------------+--------------------+---+--------------------+--------+------------------+--------------------+--------------------+----------+------+-------+-------------------+-------+--------------------+--------+----------+--------------------+----------+------+\n",
      "|{NULL, {http://ap...|{tt1553656, 26449...|[Drama, Science-F...|  1|{http://static.tv...| English|    Under the Dome|{{US, United Stat...|http://www.cbs.co...|2013-06-24| {6.5}|     60|{[Thursday], 22:00}|  Ended|<p><b>Under the D...|Scripted|1529612668|http://www.tvmaze...|      NULL|    91|\n",
      "|{NULL, {http://ap...|{tt1839578, 24874...|[Drama, Action, C...|  2|{http://static.tv...| English|Person of Interest|{{US, United Stat...|http://www.cbs.co...|2011-09-22| {9.0}|     60| {[Tuesday], 22:00}|  Ended|<p>You are being ...|Scripted|1535507028|http://www.tvmaze...|      NULL|    96|\n",
      "|{NULL, {http://ap...|{tt2365946, 26955...|[Drama, Horror, R...|  3|{http://static.tv...| English|            Bitten|{{CA, Canada, Ame...|http://bitten.spa...|2014-01-11| {7.6}|     60|  {[Friday], 22:00}|  Ended|<p>Based on the c...|Scripted|1534079818|http://www.tvmaze...|      NULL|    75|\n",
      "|{{http://api.tvma...|{tt2193021, 25765...|[Drama, Action, S...|  4|{http://static.tv...| English|             Arrow|{{US, United Stat...|http://www.cwtv.c...|2012-10-10| {7.6}|     60|  {[Monday], 20:00}|Running|<p>After a violen...|Scripted|1536062117|http://www.tvmaze...|      NULL|    99|\n",
      "|{{http://api.tvma...|{tt2356777, 27063...|[Drama, Crime, Th...|  5|{http://static.tv...| English|    True Detective|{{US, United Stat...|http://www.hbo.co...|2014-01-12| {8.3}|     60|  {[Sunday], 21:00}|Running|<p>Touch darkness...|Scripted|1536053668|http://www.tvmaze...|      NULL|    99|\n",
      "+--------------------+--------------------+--------------------+---+--------------------+--------+------------------+--------------------+--------------------+----------+------+-------+-------------------+-------+--------------------+--------+----------+--------------------+----------+------+\n"
     ]
    }
   ],
   "source": [
    "import os\n",
    "json = spark.read.json(\n",
    "    path=os.path.join(\"/opt/workspace\", \"json/tv-shows.json\"),\n",
    ")\n",
    "json.show(5)"
   ],
   "metadata": {
    "collapsed": false,
    "ExecuteTime": {
     "end_time": "2024-01-19T22:00:32.093717Z",
     "start_time": "2024-01-19T22:00:28.605817Z"
    }
   },
   "id": "c96bf17a498be5b1",
   "execution_count": 4
  },
  {
   "cell_type": "markdown",
   "source": [
    "load a jsonl file"
   ],
   "metadata": {
    "collapsed": false
   },
   "id": "9551cc0e282223f9"
  },
  {
   "cell_type": "code",
   "outputs": [
    {
     "name": "stdout",
     "output_type": "stream",
     "text": [
      "+--------------------+--------------------+--------------------+---+--------------------+--------+------------------+--------------------+--------------------+----------+------+-------+-------------------+-------+--------------------+--------+----------+--------------------+----------+------+\n",
      "|              _links|           externals|              genres| id|               image|language|              name|             network|        officialSite| premiered|rating|runtime|           schedule| status|             summary|    type|   updated|                 url|webChannel|weight|\n",
      "+--------------------+--------------------+--------------------+---+--------------------+--------+------------------+--------------------+--------------------+----------+------+-------+-------------------+-------+--------------------+--------+----------+--------------------+----------+------+\n",
      "|{NULL, {http://ap...|{tt1553656, 26449...|[Drama, Science-F...|  1|{http://static.tv...| English|    Under the Dome|{{US, United Stat...|http://www.cbs.co...|2013-06-24| {6.5}|     60|{[Thursday], 22:00}|  Ended|<p><b>Under the D...|Scripted|1529612668|http://www.tvmaze...|      NULL|    91|\n",
      "|{NULL, {http://ap...|{tt1839578, 24874...|[Drama, Action, C...|  2|{http://static.tv...| English|Person of Interest|{{US, United Stat...|http://www.cbs.co...|2011-09-22| {9.0}|     60| {[Tuesday], 22:00}|  Ended|<p>You are being ...|Scripted|1535507028|http://www.tvmaze...|      NULL|    96|\n",
      "|{NULL, {http://ap...|{tt2365946, 26955...|[Drama, Horror, R...|  3|{http://static.tv...| English|            Bitten|{{CA, Canada, Ame...|http://bitten.spa...|2014-01-11| {7.6}|     60|  {[Friday], 22:00}|  Ended|<p>Based on the c...|Scripted|1534079818|http://www.tvmaze...|      NULL|    75|\n",
      "|{{http://api.tvma...|{tt2193021, 25765...|[Drama, Action, S...|  4|{http://static.tv...| English|             Arrow|{{US, United Stat...|http://www.cwtv.c...|2012-10-10| {7.6}|     60|  {[Monday], 20:00}|Running|<p>After a violen...|Scripted|1536062117|http://www.tvmaze...|      NULL|    99|\n",
      "|{{http://api.tvma...|{tt2356777, 27063...|[Drama, Crime, Th...|  5|{http://static.tv...| English|    True Detective|{{US, United Stat...|http://www.hbo.co...|2014-01-12| {8.3}|     60|  {[Sunday], 21:00}|Running|<p>Touch darkness...|Scripted|1536053668|http://www.tvmaze...|      NULL|    99|\n",
      "+--------------------+--------------------+--------------------+---+--------------------+--------+------------------+--------------------+--------------------+----------+------+-------+-------------------+-------+--------------------+--------+----------+--------------------+----------+------+\n"
     ]
    }
   ],
   "source": [
    "import os\n",
    "json = spark.read.json(\n",
    "    path=os.path.join(\"/opt/workspace\", \"json/tv-shows-1.jsonl\"),\n",
    ")\n",
    "json.show(5)"
   ],
   "metadata": {
    "collapsed": false,
    "ExecuteTime": {
     "end_time": "2024-01-19T22:00:35.405149Z",
     "start_time": "2024-01-19T22:00:33.721489Z"
    }
   },
   "id": "9b1ecf528fbf5c94",
   "execution_count": 5
  },
  {
   "cell_type": "markdown",
   "source": [
    "load multiple jsonl files"
   ],
   "metadata": {
    "collapsed": false
   },
   "id": "d04e692073d5695d"
  },
  {
   "cell_type": "code",
   "outputs": [
    {
     "name": "stdout",
     "output_type": "stream",
     "text": [
      "+--------------------+--------------------+--------------------+---+--------------------+--------+------------------+--------------------+--------------------+----------+------+-------+-------------------+-------+--------------------+--------+----------+--------------------+----------+------+\n",
      "|              _links|           externals|              genres| id|               image|language|              name|             network|        officialSite| premiered|rating|runtime|           schedule| status|             summary|    type|   updated|                 url|webChannel|weight|\n",
      "+--------------------+--------------------+--------------------+---+--------------------+--------+------------------+--------------------+--------------------+----------+------+-------+-------------------+-------+--------------------+--------+----------+--------------------+----------+------+\n",
      "|{NULL, {http://ap...|{tt2699110, 27043...|    [Drama, Romance]|127|{http://static.tv...| English|        The Affair|{{US, United Stat...|http://www.sho.co...|2014-10-12| {7.4}|     60|  {[Sunday], 21:00}|Running|<p>At once deeply...|Scripted|1534872610|http://www.tvmaze...|      NULL|   100|\n",
      "|{NULL, {http://ap...|{tt3566726, 28162...|[Drama, Comedy, R...|128|{http://static.tv...| English|   Jane the Virgin|{{US, United Stat...|http://www.cwtv.c...|2014-10-13| {7.8}|     60|  {[Friday], 21:00}|Running|<p>When Jane Vill...|Scripted|1536410972|http://www.tvmaze...|      NULL|    95|\n",
      "|{NULL, {http://ap...|{tt3460454, 28158...|            [Comedy]|129|{http://static.tv...| English|          Marry Me|{{US, United Stat...|                NULL|2014-10-14| {6.7}|     30| {[Tuesday], 21:00}|  Ended|<p>Six years ago,...|Scripted|1504686293|http://www.tvmaze...|      NULL|    77|\n",
      "|{NULL, {http://ap...|{tt0369179, 72227...|            [Comedy]|130|{http://static.tv...| English|Two and a Half Men|{{US, United Stat...|http://www.cbs.co...|2003-09-22| {6.6}|     30|{[Thursday], 21:00}|  Ended|<p>Charlie is a w...|Scripted|1534330472|http://www.tvmaze...|      NULL|    82|\n",
      "|{NULL, {http://ap...|{tt2666270, 26959...|[Drama, Comedy, R...|131|{http://static.tv...| English|       About a Boy|{{US, United Stat...|http://www.nbc.co...|2014-02-22| {7.1}|     30| {[Tuesday], 21:30}|  Ended|<p>Will Freeman l...|Scripted|1486239563|http://www.tvmaze...|      NULL|    73|\n",
      "+--------------------+--------------------+--------------------+---+--------------------+--------+------------------+--------------------+--------------------+----------+------+-------+-------------------+-------+--------------------+--------+----------+--------------------+----------+------+\n"
     ]
    }
   ],
   "source": [
    "import os\n",
    "json = spark.read.json(\n",
    "    path=[os.path.join(\"/opt/workspace\", \"json/tv-shows-1.jsonl\"), os.path.join(\"/opt/workspace\", \"json/tv-shows-2.jsonl\")],\n",
    ")\n",
    "json.show(5)"
   ],
   "metadata": {
    "collapsed": false,
    "ExecuteTime": {
     "end_time": "2024-01-19T22:00:40.251848Z",
     "start_time": "2024-01-19T22:00:38.268017Z"
    }
   },
   "id": "65580b3b525a4ee7",
   "execution_count": 6
  },
  {
   "cell_type": "markdown",
   "source": [
    "load jsonl files using a glob pattern"
   ],
   "metadata": {
    "collapsed": false
   },
   "id": "a372ed818460a08d"
  },
  {
   "cell_type": "code",
   "outputs": [
    {
     "name": "stdout",
     "output_type": "stream",
     "text": [
      "+--------------------+--------------------+--------------------+---+--------------------+--------+------------------+--------------------+--------------------+----------+------+-------+-------------------+-------+--------------------+--------+----------+--------------------+----------+------+\n",
      "|              _links|           externals|              genres| id|               image|language|              name|             network|        officialSite| premiered|rating|runtime|           schedule| status|             summary|    type|   updated|                 url|webChannel|weight|\n",
      "+--------------------+--------------------+--------------------+---+--------------------+--------+------------------+--------------------+--------------------+----------+------+-------+-------------------+-------+--------------------+--------+----------+--------------------+----------+------+\n",
      "|{NULL, {http://ap...|{tt2699110, 27043...|    [Drama, Romance]|127|{http://static.tv...| English|        The Affair|{{US, United Stat...|http://www.sho.co...|2014-10-12| {7.4}|     60|  {[Sunday], 21:00}|Running|<p>At once deeply...|Scripted|1534872610|http://www.tvmaze...|      NULL|   100|\n",
      "|{NULL, {http://ap...|{tt3566726, 28162...|[Drama, Comedy, R...|128|{http://static.tv...| English|   Jane the Virgin|{{US, United Stat...|http://www.cwtv.c...|2014-10-13| {7.8}|     60|  {[Friday], 21:00}|Running|<p>When Jane Vill...|Scripted|1536410972|http://www.tvmaze...|      NULL|    95|\n",
      "|{NULL, {http://ap...|{tt3460454, 28158...|            [Comedy]|129|{http://static.tv...| English|          Marry Me|{{US, United Stat...|                NULL|2014-10-14| {6.7}|     30| {[Tuesday], 21:00}|  Ended|<p>Six years ago,...|Scripted|1504686293|http://www.tvmaze...|      NULL|    77|\n",
      "|{NULL, {http://ap...|{tt0369179, 72227...|            [Comedy]|130|{http://static.tv...| English|Two and a Half Men|{{US, United Stat...|http://www.cbs.co...|2003-09-22| {6.6}|     30|{[Thursday], 21:00}|  Ended|<p>Charlie is a w...|Scripted|1534330472|http://www.tvmaze...|      NULL|    82|\n",
      "|{NULL, {http://ap...|{tt2666270, 26959...|[Drama, Comedy, R...|131|{http://static.tv...| English|       About a Boy|{{US, United Stat...|http://www.nbc.co...|2014-02-22| {7.1}|     30| {[Tuesday], 21:30}|  Ended|<p>Will Freeman l...|Scripted|1486239563|http://www.tvmaze...|      NULL|    73|\n",
      "+--------------------+--------------------+--------------------+---+--------------------+--------+------------------+--------------------+--------------------+----------+------+-------+-------------------+-------+--------------------+--------+----------+--------------------+----------+------+\n"
     ]
    }
   ],
   "source": [
    "import os\n",
    "json = spark.read.json(\n",
    "    path=os.path.join(\"/opt/workspace\", \"json/*.jsonl\"),\n",
    ")\n",
    "json.show(5)"
   ],
   "metadata": {
    "collapsed": false,
    "ExecuteTime": {
     "end_time": "2024-01-19T22:00:46.310956Z",
     "start_time": "2024-01-19T22:00:43.513527Z"
    }
   },
   "id": "de8c0a1eaa9e8c4",
   "execution_count": 7
  },
  {
   "cell_type": "markdown",
   "source": [
    "load a parquet file"
   ],
   "metadata": {
    "collapsed": false
   },
   "id": "20848545391a0bca"
  },
  {
   "cell_type": "code",
   "outputs": [
    {
     "name": "stdout",
     "output_type": "stream",
     "text": [
      "+---+------------------+---+---+---+----+---+----+-----+---+---+-----+---+----+-----+-----+---+---+-----+---+---+---+---+---+---+---+---+----+----+---------+-----------+\n",
      "| Rk|            Player|Age|  G| GS|  MP| FG| FGA|  FG%| 3P|3PA|  3P%| 2P| 2PA|  2P%| eFG%| FT|FTA|  FT%|ORB|DRB|TRB|AST|STL|BLK|TOV| PF| PTS|team|   season|team_retcon|\n",
      "+---+------------------+---+---+---+----+---+----+-----+---+---+-----+---+----+-----+-----+---+---+-----+---+---+---+---+---+---+---+---+----+----+---------+-----------+\n",
      "|  1|      Isaiah Rider| 23| 75| 67|35.3|7.4|16.7|0.447|1.9|5.3|0.351|5.6|11.4|0.491|0.502|3.7|4.5|0.817|1.2|2.1|3.3|3.3|0.9|0.3|3.1|2.6|20.4| MIN|1995/1996|        MIN|\n",
      "|  2|Christian Laettner| 25| 81| 80|34.2|5.6|11.4|0.489|0.2|0.5|0.325|5.4|10.9|0.497|0.496|5.0|6.2|0.818|2.0|5.5|7.6|2.9|1.2|1.1|2.8|3.7|16.3| MIN|1995/1996|        MIN|\n",
      "|  3|         Doug West| 27| 71| 65|32.8|4.9|10.7|0.461|0.2|0.9| 0.18|4.8| 9.9|0.485|0.468|2.9|3.5|0.837|0.8|2.4|3.2|2.6|0.9|0.3|1.8|3.5|12.9| MIN|1995/1996|        MIN|\n",
      "|  4|     Tom Gugliotta| 25| 31| 17|32.8|5.2|11.5|0.454|0.9|2.8|0.318|4.3| 8.7|0.498|0.493|3.0|3.9|0.762|1.6|5.6|7.2|4.5|2.0|0.9|2.6|2.8|14.4| MIN|1995/1996|        MIN|\n",
      "|  5|        Sean Rooks| 25| 80| 70|30.1|3.6| 7.7| 0.47|0.0|0.1|  0.0|3.6| 7.6|0.474| 0.47|3.6|4.8|0.761|2.1|4.0|6.1|1.2|0.4|0.9|1.8|2.6|10.9| MIN|1995/1996|        MIN|\n",
      "+---+------------------+---+---+---+----+---+----+-----+---+---+-----+---+----+-----+-----+---+---+-----+---+---+---+---+---+---+---+---+----+----+---------+-----------+\n"
     ]
    }
   ],
   "source": [
    "import os\n",
    "parquet = spark.read.parquet(\n",
    "    os.path.join(\"/opt/workspace\", \"nba/total.parquet\")\n",
    ")\n",
    "parquet.show(5)"
   ],
   "metadata": {
    "collapsed": false,
    "ExecuteTime": {
     "end_time": "2024-01-19T22:08:08.504991Z",
     "start_time": "2024-01-19T22:08:05.595156Z"
    }
   },
   "id": "f07e4093a614842c",
   "execution_count": 15
  },
  {
   "cell_type": "markdown",
   "source": [
    "load multiple parquet files by unpacking a list of file paths"
   ],
   "metadata": {
    "collapsed": false
   },
   "id": "d7a3734f0fef731f"
  },
  {
   "cell_type": "code",
   "outputs": [
    {
     "name": "stdout",
     "output_type": "stream",
     "text": [
      "+---+------------------+----+---+----+----+---+----+-----+---+---+-----+---+---+-----+-----+---+---+-----+---+---+---+---+---+---+---+---+----+----+---------+-----------+\n",
      "| Rk|            Player| Age|  G|  GS|  MP| FG| FGA|  FG%| 3P|3PA|  3P%| 2P|2PA|  2P%| eFG%| FT|FTA|  FT%|ORB|DRB|TRB|AST|STL|BLK|TOV| PF| PTS|team|   season|team_retcon|\n",
      "+---+------------------+----+---+----+----+---+----+-----+---+---+-----+---+---+-----+-----+---+---+-----+---+---+---+---+---+---+---+---+----+----+---------+-----------+\n",
      "|1.0|Christian Laettner|25.0| 81|80.0|2770|450| 920|0.489| 13| 40|0.325|437|880|0.497|0.496|409|500|0.818|164|449|613|234|101| 87|225|302|1322| MIN|1995/1996|        MIN|\n",
      "|2.0|      Isaiah Rider|23.0| 75|67.0|2645|558|1249|0.447|139|396|0.351|419|853|0.491|0.502|277|339|0.817| 90|159|249|245| 69| 23|232|194|1532| MIN|1995/1996|        MIN|\n",
      "|3.0|        Sean Rooks|25.0| 80|70.0|2405|289| 615| 0.47|  0|  5|  0.0|289|610|0.474| 0.47|290|381|0.761|165|321|486| 97| 29| 71|142|208| 868| MIN|1995/1996|        MIN|\n",
      "|4.0|         Doug West|27.0| 71|65.0|2328|351| 762|0.461| 11| 61| 0.18|340|701|0.485|0.468|206|246|0.837| 60|167|227|185| 65| 24|126|250| 919| MIN|1995/1996|        MIN|\n",
      "|5.0|   Winston Garland|30.0| 73|58.0|1931|170| 410|0.415| 19| 75|0.253|151|335|0.451|0.438| 89|112|0.795| 48|120|168|318| 71| 13|105|184| 448| MIN|1995/1996|        MIN|\n",
      "+---+------------------+----+---+----+----+---+----+-----+---+---+-----+---+---+-----+-----+---+---+-----+---+---+---+---+---+---+---+---+----+----+---------+-----------+\n"
     ]
    }
   ],
   "source": [
    "parquet = spark.read.parquet(\n",
    "    *[\n",
    "        os.path.join(\"/opt/workspace\", \"nba/total.parquet\"),\n",
    "        os.path.join(\"/opt/workspace\", \"nba/total_playoffs.parquet\"),\n",
    "    ]\n",
    ")\n",
    "parquet.show(5)"
   ],
   "metadata": {
    "collapsed": false,
    "ExecuteTime": {
     "end_time": "2024-01-19T22:10:40.235779Z",
     "start_time": "2024-01-19T22:10:37.314338Z"
    }
   },
   "id": "efcc3f9f65524ec0",
   "execution_count": 18
  },
  {
   "cell_type": "markdown",
   "source": [
    "load a text file"
   ],
   "metadata": {
    "collapsed": false
   },
   "id": "8374fb0eb3fbdd26"
  },
  {
   "cell_type": "code",
   "outputs": [
    {
     "name": "stdout",
     "output_type": "stream",
     "text": [
      "+--------------------+\n",
      "|               value|\n",
      "+--------------------+\n",
      "|                    |\n",
      "|Project Gutenberg...|\n",
      "|                    |\n",
      "|This eBook is for...|\n",
      "|almost no restric...|\n",
      "+--------------------+\n"
     ]
    }
   ],
   "source": [
    "txt = spark.read.text(\n",
    "    os.path.join(\"/opt/workspace\", \"books/frankenstein.txt\"),\n",
    ")\n",
    "txt.show(5)"
   ],
   "metadata": {
    "collapsed": false,
    "ExecuteTime": {
     "end_time": "2024-01-19T22:27:41.147783Z",
     "start_time": "2024-01-19T22:27:40.322158Z"
    }
   },
   "id": "d1ffc50348ee06db",
   "execution_count": 19
  },
  {
   "cell_type": "markdown",
   "source": [
    "load a text file into a dataframe using a space as the separator"
   ],
   "metadata": {
    "collapsed": false
   },
   "id": "f8abaedd8e329ee6"
  },
  {
   "cell_type": "code",
   "outputs": [
    {
     "name": "stdout",
     "output_type": "stream",
     "text": [
      "+-----------+\n",
      "|      value|\n",
      "+-----------+\n",
      "|  \\nProject|\n",
      "|Gutenberg's|\n",
      "|        The|\n",
      "| Adventures|\n",
      "|         of|\n",
      "+-----------+\n"
     ]
    }
   ],
   "source": [
    "txt = spark.read.text(\n",
    "    os.path.join(\"/opt/workspace\", \"books/*.txt\"), lineSep=' '\n",
    ")\n",
    "txt.show(5)"
   ],
   "metadata": {
    "collapsed": false,
    "ExecuteTime": {
     "end_time": "2024-01-19T22:52:14.032437Z",
     "start_time": "2024-01-19T22:52:13.432979Z"
    }
   },
   "id": "ba0e90657970b0b9",
   "execution_count": 25
  },
  {
   "cell_type": "markdown",
   "source": [
    "load multiple text files using a glob pattern"
   ],
   "metadata": {
    "collapsed": false
   },
   "id": "1c9e7e516227cea7"
  },
  {
   "cell_type": "code",
   "outputs": [
    {
     "name": "stdout",
     "output_type": "stream",
     "text": [
      "+--------------------+\n",
      "|               value|\n",
      "+--------------------+\n",
      "|\\nProject Gutenbe...|\n",
      "|\\nProject Gutenbe...|\n",
      "+--------------------+\n"
     ]
    }
   ],
   "source": [
    "txt = spark.read.text(\n",
    "    os.path.join(\"/opt/workspace\", \"books/*.txt\"), wholetext=True\n",
    ")\n",
    "txt.show(5)"
   ],
   "metadata": {
    "collapsed": false,
    "ExecuteTime": {
     "end_time": "2024-01-19T22:50:41.709825Z",
     "start_time": "2024-01-19T22:50:40.330325Z"
    }
   },
   "id": "2c63acaf6da8ff4c",
   "execution_count": 24
  }
 ],
 "metadata": {
  "kernelspec": {
   "display_name": "Python 3",
   "language": "python",
   "name": "python3"
  },
  "language_info": {
   "codemirror_mode": {
    "name": "ipython",
    "version": 2
   },
   "file_extension": ".py",
   "mimetype": "text/x-python",
   "name": "python",
   "nbconvert_exporter": "python",
   "pygments_lexer": "ipython2",
   "version": "2.7.6"
  }
 },
 "nbformat": 4,
 "nbformat_minor": 5
}
