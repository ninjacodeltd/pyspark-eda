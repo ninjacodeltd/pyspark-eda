{
 "cells": [
  {
   "cell_type": "markdown",
   "source": [
    "kafka integration guide https://spark.apache.org/docs/latest/structured-streaming-kafka-integration.html"
   ],
   "metadata": {
    "collapsed": false
   },
   "id": "3719b0e3227b8aed"
  },
  {
   "cell_type": "code",
   "outputs": [],
   "source": [
    "from pyspark.sql import SparkSession\n",
    "\n",
    "scala_version = '2.12'\n",
    "spark_version = '3.5.0'\n",
    "packages = [\n",
    "    f'org.apache.spark:spark-sql-kafka-0-10_{scala_version}:{spark_version}',\n",
    "    'org.apache.kafka:kafka-clients:3.5.0'\n",
    "]\n",
    "\n",
    "spark = (\n",
    "    SparkSession\n",
    "    .builder\n",
    "    .master(\"local[*]\")\n",
    "    .config('spark.jars.packages', \",\".join(packages))\n",
    "    .getOrCreate()\n",
    ")"
   ],
   "metadata": {
    "collapsed": true,
    "ExecuteTime": {
     "end_time": "2024-03-09T16:04:44.443166Z",
     "start_time": "2024-03-09T16:04:25.971187Z"
    }
   },
   "id": "initial_id",
   "execution_count": 1
  },
  {
   "cell_type": "markdown",
   "source": [
    "read streaming data from kafka as a batch"
   ],
   "metadata": {
    "collapsed": false
   },
   "id": "d54e08144b93c441"
  },
  {
   "cell_type": "code",
   "outputs": [
    {
     "name": "stdout",
     "output_type": "stream",
     "text": [
      "root\n",
      " |-- key: binary (nullable = true)\n",
      " |-- value: binary (nullable = true)\n",
      " |-- topic: string (nullable = true)\n",
      " |-- partition: integer (nullable = true)\n",
      " |-- offset: long (nullable = true)\n",
      " |-- timestamp: timestamp (nullable = true)\n",
      " |-- timestampType: integer (nullable = true)\n"
     ]
    }
   ],
   "source": [
    "kafkaBatch = (\n",
    "    spark\n",
    "        .read\n",
    "        .format(\"kafka\")\n",
    "        .option(\"kafka.bootstrap.servers\", \"kafka-broker:29092\") # kafka broker\n",
    "        .option(\"subscribe\", \"web-events\") # topic\n",
    "        .option(\"startingOffsets\", \"earliest\") # starting at offset 0 for all partitions\n",
    "        .option(\"endingOffsets\", '{\"web-events\":{\"0\":10}}') # 10 events from partition 0\n",
    "        .load()\n",
    ")\n",
    "kafkaBatch.printSchema()"
   ],
   "metadata": {
    "collapsed": false,
    "ExecuteTime": {
     "end_time": "2024-03-09T16:04:52.049256Z",
     "start_time": "2024-03-09T16:04:50.205826Z"
    }
   },
   "id": "6ab601af02b86559",
   "execution_count": 2
  },
  {
   "cell_type": "markdown",
   "source": [
    "show the contents of the batched events from kafka, shows binary values for key and value"
   ],
   "metadata": {
    "collapsed": false
   },
   "id": "8c7028d669b9eddd"
  },
  {
   "cell_type": "code",
   "outputs": [
    {
     "name": "stdout",
     "output_type": "stream",
     "text": [
      "+--------------------+--------------------+----------+---------+------+--------------------+-------------+\n",
      "|                 key|               value|     topic|partition|offset|           timestamp|timestampType|\n",
      "+--------------------+--------------------+----------+---------+------+--------------------+-------------+\n",
      "|[62 39 39 37 31 3...|[7B 22 65 76 65 6...|web-events|        0|     0|2024-03-09 16:02:...|            0|\n",
      "|[64 62 64 61 39 3...|[7B 22 65 76 65 6...|web-events|        0|     1|2024-03-09 16:02:...|            0|\n",
      "|[38 62 34 66 62 3...|[7B 22 65 76 65 6...|web-events|        0|     2|2024-03-09 16:02:...|            0|\n",
      "|[38 32 39 38 66 6...|[7B 22 65 76 65 6...|web-events|        0|     3|2024-03-09 16:02:...|            0|\n",
      "|[36 66 32 66 61 6...|[7B 22 65 76 65 6...|web-events|        0|     4|2024-03-09 16:02:...|            0|\n",
      "+--------------------+--------------------+----------+---------+------+--------------------+-------------+\n"
     ]
    }
   ],
   "source": [
    "kafkaBatch.show(5)"
   ],
   "metadata": {
    "collapsed": false,
    "ExecuteTime": {
     "end_time": "2024-03-09T16:05:03.077014Z",
     "start_time": "2024-03-09T16:04:58.737438Z"
    }
   },
   "id": "f4206dfbb8084ff9",
   "execution_count": 3
  },
  {
   "cell_type": "markdown",
   "source": [
    "cast key and value to strings and show again"
   ],
   "metadata": {
    "collapsed": false
   },
   "id": "5c6d3d0fd41636cf"
  },
  {
   "cell_type": "code",
   "outputs": [
    {
     "name": "stdout",
     "output_type": "stream",
     "text": [
      "+--------------------+--------------------+\n",
      "|                 key|               value|\n",
      "+--------------------+--------------------+\n",
      "|b9971839-698d-499...|{\"event_id\": \"b99...|\n",
      "|dbda989f-71a8-464...|{\"event_id\": \"dbd...|\n",
      "|8b4fb671-1d16-435...|{\"event_id\": \"8b4...|\n",
      "|8298ff27-a3c7-493...|{\"event_id\": \"829...|\n",
      "|6f2fab81-e0ca-4c1...|{\"event_id\": \"6f2...|\n",
      "+--------------------+--------------------+\n"
     ]
    }
   ],
   "source": [
    "(\n",
    "    kafkaBatch\n",
    "    .selectExpr(\"CAST(key AS STRING)\", \"CAST(value AS STRING)\")\n",
    "    .show(5)\n",
    ")"
   ],
   "metadata": {
    "collapsed": false,
    "ExecuteTime": {
     "end_time": "2024-03-09T16:07:35.970402Z",
     "start_time": "2024-03-09T16:07:35.403831Z"
    }
   },
   "id": "9c74845112a8317f",
   "execution_count": 5
  },
  {
   "cell_type": "code",
   "outputs": [
    {
     "name": "stdout",
     "output_type": "stream",
     "text": [
      "+------------------------------------+-----------------------------------------------------------------------------------------------------------------------------------------------------------------------------------------------------------------------------------------------------------------------------------------------------------------------------------------------------------------------------------------------------------------------------------------------------------------------------------------------------------------------------------------------------------------------------------------------------------------------------------------------------------------------------------------------------------------------------------------------------------------------------------------------------------------------------------------------------------------------------------------------------------------------------------------------------------------------------------------------------------------------------------------------------------------------------------------------------------------+\n",
      "|key                                 |value                                                                                                                                                                                                                                                                                                                                                                                                                                                                                                                                                                                                                                                                                                                                                                                                                                                                                                                                                                                                                                                                                                            |\n",
      "+------------------------------------+-----------------------------------------------------------------------------------------------------------------------------------------------------------------------------------------------------------------------------------------------------------------------------------------------------------------------------------------------------------------------------------------------------------------------------------------------------------------------------------------------------------------------------------------------------------------------------------------------------------------------------------------------------------------------------------------------------------------------------------------------------------------------------------------------------------------------------------------------------------------------------------------------------------------------------------------------------------------------------------------------------------------------------------------------------------------------------------------------------------------+\n",
      "|b9971839-698d-499d-9301-677b312d7d12|{\"event_id\": \"b9971839-698d-499d-9301-677b312d7d12\", \"event_timestamp\": \"2024-03-09 16:02:36.205590\", \"event_type\": \"pageview\", \"page_url\": \"http://www.dummywebsite.com/home\", \"page_url_path\": \"/home\", \"referer_url\": \"www.instagram.com\", \"referer_url_scheme\": \"http\", \"referer_url_port\": \"80\", \"referer_medium\": \"internal\", \"utm_medium\": \"organic\", \"utm_source\": \"instagram\", \"utm_content\": \"ad_5\", \"utm_campaign\": \"campaign_1\", \"click_id\": \"18c4b901-1fd5-4578-9621-b976a853a98c\", \"geo_latitude\": \"37.58105\", \"geo_longitude\": \"29.26639\", \"geo_country\": \"TR\", \"geo_timezone\": \"Europe/Istanbul\", \"geo_region_name\": \"Serinhisar\", \"ip_address\": \"223.197.243.246\", \"browser_name\": \"Chrome\", \"browser_user_agent\": \"Mozilla/5.0 (Windows NT 6.2) AppleWebKit/531.1 (KHTML, like Gecko) Chrome/22.0.818.0 Safari/531.1\", \"browser_language\": \"tt_RU\", \"os\": \"Windows NT 6.2\", \"os_name\": \"Windows\", \"os_timezone\": \"Europe/Istanbul\", \"device_type\": \"Computer\", \"device_is_mobile\": false, \"user_custom_id\": \"nicholas01@hotmail.com\", \"user_domain_id\": \"084b3b79-6196-4ca4-82b4-2879ef847c37\"}|\n",
      "+------------------------------------+-----------------------------------------------------------------------------------------------------------------------------------------------------------------------------------------------------------------------------------------------------------------------------------------------------------------------------------------------------------------------------------------------------------------------------------------------------------------------------------------------------------------------------------------------------------------------------------------------------------------------------------------------------------------------------------------------------------------------------------------------------------------------------------------------------------------------------------------------------------------------------------------------------------------------------------------------------------------------------------------------------------------------------------------------------------------------------------------------------------------+\n"
     ]
    }
   ],
   "source": [
    "(\n",
    "    kafkaBatch\n",
    "    .selectExpr(\"CAST(key AS STRING)\", \"CAST(value AS STRING)\")\n",
    "    .show(1, truncate=False)\n",
    ")"
   ],
   "metadata": {
    "collapsed": false,
    "ExecuteTime": {
     "end_time": "2024-03-09T16:07:38.261759Z",
     "start_time": "2024-03-09T16:07:37.687834Z"
    }
   },
   "id": "d8882ebfaf625fac",
   "execution_count": 6
  }
 ],
 "metadata": {
  "kernelspec": {
   "display_name": "Python 3",
   "language": "python",
   "name": "python3"
  },
  "language_info": {
   "codemirror_mode": {
    "name": "ipython",
    "version": 2
   },
   "file_extension": ".py",
   "mimetype": "text/x-python",
   "name": "python",
   "nbconvert_exporter": "python",
   "pygments_lexer": "ipython2",
   "version": "2.7.6"
  }
 },
 "nbformat": 4,
 "nbformat_minor": 5
}
