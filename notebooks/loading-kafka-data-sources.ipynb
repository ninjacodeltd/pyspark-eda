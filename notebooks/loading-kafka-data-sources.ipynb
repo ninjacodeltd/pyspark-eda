{
 "cells": [
  {
   "cell_type": "markdown",
   "source": [
    "kafka integration guide https://spark.apache.org/docs/latest/structured-streaming-kafka-integration.html"
   ],
   "metadata": {
    "collapsed": false
   },
   "id": "3719b0e3227b8aed"
  },
  {
   "cell_type": "code",
   "outputs": [],
   "source": [
    "from pyspark.sql import SparkSession\n",
    "\n",
    "scala_version = '2.12'\n",
    "spark_version = '3.5.0'\n",
    "packages = [\n",
    "    f'org.apache.spark:spark-sql-kafka-0-10_{scala_version}:{spark_version}',\n",
    "    'org.apache.kafka:kafka-clients:3.5.0'\n",
    "]\n",
    "\n",
    "spark = (\n",
    "    SparkSession\n",
    "    .builder\n",
    "    .master(\"local[*]\")\n",
    "    .config('spark.jars.packages', \",\".join(packages))\n",
    "    .getOrCreate()\n",
    ")"
   ],
   "metadata": {
    "collapsed": true,
    "ExecuteTime": {
     "end_time": "2024-01-20T19:59:19.957659Z",
     "start_time": "2024-01-20T19:58:44.865812Z"
    }
   },
   "id": "initial_id",
   "execution_count": 1
  },
  {
   "cell_type": "markdown",
   "source": [
    "read streaming data from kafka as a batch"
   ],
   "metadata": {
    "collapsed": false
   },
   "id": "d54e08144b93c441"
  },
  {
   "cell_type": "code",
   "outputs": [
    {
     "name": "stdout",
     "output_type": "stream",
     "text": [
      "root\n",
      " |-- key: binary (nullable = true)\n",
      " |-- value: binary (nullable = true)\n",
      " |-- topic: string (nullable = true)\n",
      " |-- partition: integer (nullable = true)\n",
      " |-- offset: long (nullable = true)\n",
      " |-- timestamp: timestamp (nullable = true)\n",
      " |-- timestampType: integer (nullable = true)\n"
     ]
    }
   ],
   "source": [
    "kafkaBatch = (\n",
    "    spark\n",
    "        .read\n",
    "        .format(\"kafka\")\n",
    "        .option(\"kafka.bootstrap.servers\", \"kafka-broker:29092\") # kafka broker\n",
    "        .option(\"subscribe\", \"web-events\") # topic\n",
    "        .option(\"startingOffsets\", \"earliest\") # starting at offset 0 for all partitions\n",
    "        .option(\"endingOffsets\", '{\"web-events\":{\"0\":10}}') # 10 events from partition 0\n",
    "        .load()\n",
    ")\n",
    "kafkaBatch.printSchema()"
   ],
   "metadata": {
    "collapsed": false,
    "ExecuteTime": {
     "end_time": "2024-01-20T19:59:26.280156Z",
     "start_time": "2024-01-20T19:59:19.985314Z"
    }
   },
   "id": "6ab601af02b86559",
   "execution_count": 2
  },
  {
   "cell_type": "markdown",
   "source": [
    "show the contents of the batched events from kafka, shows binary values for key and value"
   ],
   "metadata": {
    "collapsed": false
   },
   "id": "8c7028d669b9eddd"
  },
  {
   "cell_type": "code",
   "outputs": [
    {
     "name": "stdout",
     "output_type": "stream",
     "text": [
      "+--------------------+--------------------+----------+---------+------+--------------------+-------------+\n",
      "|                 key|               value|     topic|partition|offset|           timestamp|timestampType|\n",
      "+--------------------+--------------------+----------+---------+------+--------------------+-------------+\n",
      "|[64 63 30 65 65 3...|[7B 22 65 76 65 6...|web-events|        0|     0|2024-01-20 19:57:...|            0|\n",
      "|[64 61 33 33 64 3...|[7B 22 65 76 65 6...|web-events|        0|     1|2024-01-20 19:57:...|            0|\n",
      "|[61 64 36 31 37 6...|[7B 22 65 76 65 6...|web-events|        0|     2|2024-01-20 19:57:...|            0|\n",
      "|[61 64 38 37 39 3...|[7B 22 65 76 65 6...|web-events|        0|     3|2024-01-20 19:57:...|            0|\n",
      "|[62 31 61 35 36 3...|[7B 22 65 76 65 6...|web-events|        0|     4|2024-01-20 19:57:...|            0|\n",
      "+--------------------+--------------------+----------+---------+------+--------------------+-------------+\n"
     ]
    }
   ],
   "source": [
    "kafkaBatch.show(5)"
   ],
   "metadata": {
    "collapsed": false,
    "ExecuteTime": {
     "end_time": "2024-01-20T19:59:39.186910Z",
     "start_time": "2024-01-20T19:59:26.284257Z"
    }
   },
   "id": "f4206dfbb8084ff9",
   "execution_count": 3
  },
  {
   "cell_type": "markdown",
   "source": [
    "cast key and value to strings and show again"
   ],
   "metadata": {
    "collapsed": false
   },
   "id": "5c6d3d0fd41636cf"
  },
  {
   "cell_type": "code",
   "outputs": [
    {
     "name": "stdout",
     "output_type": "stream",
     "text": [
      "+------------------------------------+---------------------------------------------------------------------------------------------------------------------------------------------------------------------------------------------------------------------------------------------------------------------------------------------------------------------------------------------------------------------------------------------------------------------------------------------------------------------------------------------------------------------------------------------------------------------------------------------------------------------------------------------------------------------------------------------------------------------------------------------------------------------------------------------------------------------------------------------------------------------------------------------------------------------------------------------------------------------------------------------------------------------------------------------------------------------------------------------------------------------------------------------------+\n",
      "|key                                 |value                                                                                                                                                                                                                                                                                                                                                                                                                                                                                                                                                                                                                                                                                                                                                                                                                                                                                                                                                                                                                                                                                                                                              |\n",
      "+------------------------------------+---------------------------------------------------------------------------------------------------------------------------------------------------------------------------------------------------------------------------------------------------------------------------------------------------------------------------------------------------------------------------------------------------------------------------------------------------------------------------------------------------------------------------------------------------------------------------------------------------------------------------------------------------------------------------------------------------------------------------------------------------------------------------------------------------------------------------------------------------------------------------------------------------------------------------------------------------------------------------------------------------------------------------------------------------------------------------------------------------------------------------------------------------+\n",
      "|dc0ee962-26ae-4305-b648-00c5e8b894d6|{\"event_id\": \"dc0ee962-26ae-4305-b648-00c5e8b894d6\", \"event_timestamp\": \"2024-01-20 19:57:39.643568\", \"event_type\": \"pageview\", \"page_url\": \"http://www.dummywebsite.com/home\", \"page_url_path\": \"/home\", \"referer_url\": \"www.facebook.com\", \"referer_url_scheme\": \"http\", \"referer_url_port\": \"80\", \"referer_medium\": \"internal\", \"utm_medium\": \"social\", \"utm_source\": \"facebook\", \"utm_content\": \"ad_2\", \"utm_campaign\": \"campaign_1\", \"click_id\": \"2b21b21c-a660-4885-b6d1-619d82fb9f5d\", \"geo_latitude\": \"37.52487\", \"geo_longitude\": \"-77.55777\", \"geo_country\": \"US\", \"geo_timezone\": \"America/New_York\", \"geo_region_name\": \"Bon Air\", \"ip_address\": \"80.89.235.233\", \"browser_name\": \"Opera\", \"browser_user_agent\": \"Opera/9.75.(Windows NT 5.01; the-NP) Presto/2.9.172 Version/12.00\", \"browser_language\": \"fr_LU\", \"os\": \"Macintosh; U; PPC Mac OS X 10_10_4\", \"os_name\": \"MacOS\", \"os_timezone\": \"America/New_York\", \"device_type\": \"Computer\", \"device_is_mobile\": false, \"user_custom_id\": \"mschultz@gmail.com\", \"user_domain_id\": \"6db73720-c0e9-4c6e-9469-42b759641cd3\"}                                                          |\n",
      "|da33d6f6-7c2b-4f6f-8f5a-9aec63dc92ea|{\"event_id\": \"da33d6f6-7c2b-4f6f-8f5a-9aec63dc92ea\", \"event_timestamp\": \"2024-01-20 19:57:42.510568\", \"event_type\": \"pageview\", \"page_url\": \"http://www.dummywebsite.com/home\", \"page_url_path\": \"/home\", \"referer_url\": \"www.google.com\", \"referer_url_scheme\": \"http\", \"referer_url_port\": \"80\", \"referer_medium\": \"search\", \"utm_medium\": \"organic\", \"utm_source\": \"google\", \"utm_content\": \"ad_4\", \"utm_campaign\": \"campaign_1\", \"click_id\": \"de49f8e1-8d9f-461f-89da-ba2e07ced65b\", \"geo_latitude\": \"48.8765\", \"geo_longitude\": \"2.18967\", \"geo_country\": \"FR\", \"geo_timezone\": \"Europe/Paris\", \"geo_region_name\": \"Rueil-Malmaison\", \"ip_address\": \"144.242.109.201\", \"browser_name\": \"Firefox\", \"browser_user_agent\": \"Mozilla/5.0 (Windows NT 4.0; so-SO; rv:1.9.1.20) Gecko/2022-07-28 02:39:31 Firefox/10.0\", \"browser_language\": \"st_ZA\", \"os\": \"X11; Linux x86_64\", \"os_name\": \"Linux\", \"os_timezone\": \"Europe/Paris\", \"device_type\": \"Computer\", \"device_is_mobile\": false, \"user_custom_id\": \"moralesstephen@hotmail.com\", \"user_domain_id\": \"555e0f12-b46f-4644-b951-1c7e056d862d\"}                                                 |\n",
      "|ad617f04-4a7a-4a5c-88a8-94d8075aad9c|{\"event_id\": \"ad617f04-4a7a-4a5c-88a8-94d8075aad9c\", \"event_timestamp\": \"2024-01-20 19:57:41.425568\", \"event_type\": \"pageview\", \"page_url\": \"http://www.dummywebsite.com/home\", \"page_url_path\": \"/home\", \"referer_url\": \"www.google.com\", \"referer_url_scheme\": \"http\", \"referer_url_port\": \"80\", \"referer_medium\": \"search\", \"utm_medium\": \"organic\", \"utm_source\": \"google\", \"utm_content\": \"ad_4\", \"utm_campaign\": \"campaign_1\", \"click_id\": \"5ab8b09b-6cea-4261-84a6-d62343de36ea\", \"geo_latitude\": \"48.8449\", \"geo_longitude\": \"17.22635\", \"geo_country\": \"SK\", \"geo_timezone\": \"Europe/Bratislava\", \"geo_region_name\": \"Skalica\", \"ip_address\": \"201.131.33.180\", \"browser_name\": \"InternetExplorer\", \"browser_user_agent\": \"Mozilla/5.0 (compatible; MSIE 8.0; Windows 98; Win 9x 4.90; Trident/4.1)\", \"browser_language\": \"yue_HK\", \"os\": \"Macintosh; Intel Mac OS X 10_9_3\", \"os_name\": \"MacOS\", \"os_timezone\": \"Europe/Bratislava\", \"device_type\": \"Computer\", \"device_is_mobile\": false, \"user_custom_id\": \"alison96@hotmail.com\", \"user_domain_id\": \"bc6a5bd1-0986-4397-b5c2-e04ff66816c8\"}                                           |\n",
      "|ad879980-f14a-4318-9011-62e6b748651f|{\"event_id\": \"ad879980-f14a-4318-9011-62e6b748651f\", \"event_timestamp\": \"2024-01-20 19:57:41.854568\", \"event_type\": \"pageview\", \"page_url\": \"http://www.dummywebsite.com/product_a\", \"page_url_path\": \"/product_a\", \"referer_url\": \"www.instagram.com\", \"referer_url_scheme\": \"http\", \"referer_url_port\": \"80\", \"referer_medium\": \"internal\", \"utm_medium\": \"cpc\", \"utm_source\": \"instagram\", \"utm_content\": \"ad_2\", \"utm_campaign\": \"campaign_1\", \"click_id\": \"8bf1075d-0085-403b-ae89-8d858317a564\", \"geo_latitude\": \"46.32374\", \"geo_longitude\": \"-120.00865\", \"geo_country\": \"US\", \"geo_timezone\": \"America/Los_Angeles\", \"geo_region_name\": \"Sunnyside\", \"ip_address\": \"223.217.147.26\", \"browser_name\": \"Chrome\", \"browser_user_agent\": \"Mozilla/5.0 (Windows NT 6.1) AppleWebKit/532.2 (KHTML, like Gecko) Chrome/45.0.856.0 Safari/532.2\", \"browser_language\": \"ber_DZ\", \"os\": \"iPad; CPU iPad OS 9_3_6 like Mac OS X\", \"os_name\": \"iOS\", \"os_timezone\": \"America/Los_Angeles\", \"device_type\": \"Mobile\", \"device_is_mobile\": true, \"user_custom_id\": \"hansonclaudia@hotmail.com\", \"user_domain_id\": \"1606a75c-1d7c-4f45-a1b1-18d2ffa3b20d\"}|\n",
      "|b1a569c5-ad11-469c-85dd-a7f00f1017cd|{\"event_id\": \"b1a569c5-ad11-469c-85dd-a7f00f1017cd\", \"event_timestamp\": \"2024-01-20 19:57:42.423568\", \"event_type\": \"pageview\", \"page_url\": \"http://www.dummywebsite.com/home\", \"page_url_path\": \"/home\", \"referer_url\": \"www.mailchimp.com\", \"referer_url_scheme\": \"http\", \"referer_url_port\": \"80\", \"referer_medium\": \"internal\", \"utm_medium\": \"affiliate\", \"utm_source\": \"mailchimp\", \"utm_content\": \"ad_4\", \"utm_campaign\": \"campaign_1\", \"click_id\": \"9dffddd1-02af-4e75-92fb-746a935592d4\", \"geo_latitude\": \"55.85\", \"geo_longitude\": \"37.56667\", \"geo_country\": \"RU\", \"geo_timezone\": \"Europe/Moscow\", \"geo_region_name\": \"Likhobory\", \"ip_address\": \"170.127.239.93\", \"browser_name\": \"Chrome\", \"browser_user_agent\": \"Mozilla/5.0 (Linux; Android 4.4.3) AppleWebKit/532.2 (KHTML, like Gecko) Chrome/13.0.882.0 Safari/532.2\", \"browser_language\": \"lb_LU\", \"os\": \"iPhone; CPU iPhone OS 3_1_3 like Mac OS X\", \"os_name\": \"iOS\", \"os_timezone\": \"Europe/Moscow\", \"device_type\": \"Mobile\", \"device_is_mobile\": true, \"user_custom_id\": \"cphillips@gmail.com\", \"user_domain_id\": \"a25c9e64-b8ea-41d1-9538-f49f564a266b\"}                  |\n",
      "+------------------------------------+---------------------------------------------------------------------------------------------------------------------------------------------------------------------------------------------------------------------------------------------------------------------------------------------------------------------------------------------------------------------------------------------------------------------------------------------------------------------------------------------------------------------------------------------------------------------------------------------------------------------------------------------------------------------------------------------------------------------------------------------------------------------------------------------------------------------------------------------------------------------------------------------------------------------------------------------------------------------------------------------------------------------------------------------------------------------------------------------------------------------------------------------------+\n"
     ]
    }
   ],
   "source": [
    "(\n",
    "    kafkaBatch\n",
    "    .selectExpr(\"CAST(key AS STRING)\", \"CAST(value AS STRING)\")\n",
    "    .show(5, truncate=False)\n",
    ")"
   ],
   "metadata": {
    "collapsed": false,
    "ExecuteTime": {
     "end_time": "2024-01-20T19:59:41.961207Z",
     "start_time": "2024-01-20T19:59:39.196013Z"
    }
   },
   "id": "9c74845112a8317f",
   "execution_count": 4
  }
 ],
 "metadata": {
  "kernelspec": {
   "display_name": "Python 3",
   "language": "python",
   "name": "python3"
  },
  "language_info": {
   "codemirror_mode": {
    "name": "ipython",
    "version": 2
   },
   "file_extension": ".py",
   "mimetype": "text/x-python",
   "name": "python",
   "nbconvert_exporter": "python",
   "pygments_lexer": "ipython2",
   "version": "2.7.6"
  }
 },
 "nbformat": 4,
 "nbformat_minor": 5
}
