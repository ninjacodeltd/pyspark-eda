{
 "cells": [
  {
   "cell_type": "code",
   "outputs": [],
   "source": [
    "from pyspark.sql import SparkSession\n",
    "\n",
    "spark = (\n",
    "    SparkSession\n",
    "    .builder\n",
    "    .master(\"local[*]\")\n",
    "    .getOrCreate()    \n",
    ")"
   ],
   "metadata": {
    "collapsed": false,
    "ExecuteTime": {
     "end_time": "2024-03-09T17:40:19.229195Z",
     "start_time": "2024-03-09T17:40:14.236850Z"
    }
   },
   "id": "4b1bd6cebe498563",
   "execution_count": 1
  },
  {
   "cell_type": "markdown",
   "source": [
    "read images using image format and glob pattern in path"
   ],
   "metadata": {
    "collapsed": false
   },
   "id": "8bea314c0ec7a11b"
  },
  {
   "cell_type": "code",
   "outputs": [
    {
     "name": "stdout",
     "output_type": "stream",
     "text": [
      "+--------------------+\n",
      "|               image|\n",
      "+--------------------+\n",
      "|{file:///opt/work...|\n",
      "|{file:///opt/work...|\n",
      "|{file:///opt/work...|\n",
      "|{file:///opt/work...|\n",
      "|{file:///opt/work...|\n",
      "+--------------------+\n"
     ]
    }
   ],
   "source": [
    "import os\n",
    "\n",
    "df = spark.read.format(\"image\").load(os.path.join(\"/opt/workspace\", \"media/images/catsAndDogs40/train/*/*.jpg\"))\n",
    "df.show(5)"
   ],
   "metadata": {
    "collapsed": false,
    "ExecuteTime": {
     "end_time": "2024-03-09T17:40:30.263134Z",
     "start_time": "2024-03-09T17:40:20.781375Z"
    }
   },
   "id": "be6a5bb7f1875151",
   "execution_count": 2
  },
  {
   "cell_type": "markdown",
   "source": [
    "it appears to show a single column as struct object, let's look at the schema"
   ],
   "metadata": {
    "collapsed": false
   },
   "id": "c91fb280c08eaa38"
  },
  {
   "cell_type": "code",
   "outputs": [
    {
     "name": "stdout",
     "output_type": "stream",
     "text": [
      "root\n",
      " |-- image: struct (nullable = true)\n",
      " |    |-- origin: string (nullable = true)\n",
      " |    |-- height: integer (nullable = true)\n",
      " |    |-- width: integer (nullable = true)\n",
      " |    |-- nChannels: integer (nullable = true)\n",
      " |    |-- mode: integer (nullable = true)\n",
      " |    |-- data: binary (nullable = true)\n"
     ]
    }
   ],
   "source": [
    "df.printSchema()"
   ],
   "metadata": {
    "collapsed": false,
    "ExecuteTime": {
     "end_time": "2024-03-09T17:40:32.082947Z",
     "start_time": "2024-03-09T17:40:32.065363Z"
    }
   },
   "id": "b39a07bce66c7a9f",
   "execution_count": 3
  },
  {
   "cell_type": "markdown",
   "source": [
    "okay, so let's expand image dictionary into columns"
   ],
   "metadata": {
    "collapsed": false
   },
   "id": "ac7b906e7a321e8f"
  },
  {
   "cell_type": "code",
   "outputs": [
    {
     "name": "stdout",
     "output_type": "stream",
     "text": [
      "+--------------------+------+-----+---------+----+--------------------+\n",
      "|              origin|height|width|nChannels|mode|                data|\n",
      "+--------------------+------+-----+---------+----+--------------------+\n",
      "|file:///opt/works...|   160|  160|        3|  16|[0B 17 17 13 20 1...|\n",
      "|file:///opt/works...|   160|  160|        3|  16|[32 3E 3E 33 42 3...|\n",
      "|file:///opt/works...|   160|  160|        3|  16|[F2 EF EB F3 F0 E...|\n",
      "|file:///opt/works...|   160|  160|        3|  16|[FA C5 82 FA C5 8...|\n",
      "|file:///opt/works...|   160|  160|        3|  16|[40 53 58 54 6A 6...|\n",
      "+--------------------+------+-----+---------+----+--------------------+\n"
     ]
    }
   ],
   "source": [
    "df.select(\"image.*\").show(5)"
   ],
   "metadata": {
    "collapsed": false,
    "ExecuteTime": {
     "end_time": "2024-03-09T17:40:35.596232Z",
     "start_time": "2024-03-09T17:40:34.503253Z"
    }
   },
   "id": "54cc01ed57171ff7",
   "execution_count": 4
  },
  {
   "cell_type": "markdown",
   "source": [
    "extract image features"
   ],
   "metadata": {
    "collapsed": false
   },
   "id": "ce6ea8235ff48a3b"
  },
  {
   "cell_type": "code",
   "outputs": [
    {
     "name": "stdout",
     "output_type": "stream",
     "text": [
      "+---------+------+-----+--------------------+\n",
      "|file_name|height|width|   mean_pixel_levels|\n",
      "+---------+------+-----+--------------------+\n",
      "|   17.jpg|   160|  160|[105.68774, 122.5...|\n",
      "|   28.jpg|   160|  160|[90.60562, 100.55...|\n",
      "|   20.jpg|   160|  160|[107.34871, 119.9...|\n",
      "|    1.jpg|   160|  160|[117.33078, 136.5...|\n",
      "|   24.jpg|   160|  160|[65.62848, 96.271...|\n",
      "+---------+------+-----+--------------------+\n"
     ]
    }
   ],
   "source": [
    "import pyspark.sql.functions as F\n",
    "from pyspark.sql.pandas.functions import pandas_udf\n",
    "import pyspark.sql.types as T\n",
    "import pandas as pd\n",
    "from PIL import ImageStat, Image\n",
    "\n",
    "@pandas_udf(returnType=T.ArrayType(T.FloatType()))\n",
    "def mean_pixel_levels(height: pd.Series, width: pd.Series, bytes: pd.Series) -> pd.Series:\n",
    "    mode = 'YCbCr'\n",
    "    return pd.Series(ImageStat.Stat(Image.frombytes(mode, (h,w), b)).mean for h,w,b in list(zip(height, width, bytes)))\n",
    "    \n",
    "\n",
    "features_df = df.select(\"image.*\")\n",
    "features_df = features_df.select(\n",
    "    F.reverse(F.split(F.col(\"origin\"),\"/\")).getItem(0).alias(\"file_name\"),\n",
    "    F.col(\"height\"),F.col(\"width\"),\n",
    "    mean_pixel_levels(F.col(\"height\"),F.col(\"width\"),F.col(\"data\")).alias(\"mean_pixel_levels\")\n",
    ")\n",
    "features_df.show(5)\n"
   ],
   "metadata": {
    "collapsed": false,
    "ExecuteTime": {
     "end_time": "2024-03-09T17:40:57.832205Z",
     "start_time": "2024-03-09T17:40:55.358090Z"
    }
   },
   "id": "b9b88c0fe60318ab",
   "execution_count": 6
  }
 ],
 "metadata": {
  "kernelspec": {
   "display_name": "Python 3",
   "language": "python",
   "name": "python3"
  },
  "language_info": {
   "codemirror_mode": {
    "name": "ipython",
    "version": 2
   },
   "file_extension": ".py",
   "mimetype": "text/x-python",
   "name": "python",
   "nbconvert_exporter": "python",
   "pygments_lexer": "ipython2",
   "version": "2.7.6"
  }
 },
 "nbformat": 4,
 "nbformat_minor": 5
}
